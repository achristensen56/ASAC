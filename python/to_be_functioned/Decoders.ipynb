{
 "cells": [
  {
   "cell_type": "code",
   "execution_count": 1,
   "metadata": {},
   "outputs": [],
   "source": [
    "import numpy as np\n",
    "import scipy.io as sio\n",
    "import glob\n",
    "from sklearn import linear_model\n",
    "import pandas as pd\n",
    "import matplotlib\n",
    "import matplotlib.pyplot as plt\n",
    "import math\n",
    "from itertools import cycle\n",
    "from scipy.optimize import curve_fit\n",
    "from sklearn.decomposition import PCA\n",
    "from sklearn.model_selection import train_test_split\n",
    "from scipy.stats import sem\n",
    "from scipy import stats\n",
    "from scipy import ndimage\n",
    "import pystan\n",
    "from matplotlib import cm\n",
    "import pyprind\n",
    "%matplotlib inline\n",
    "import itertools\n",
    "from sklearn.cross_decomposition import PLSRegression\n",
    "\n",
    "color_cycle = cycle(['g', 'b', 'c', 'm', 'y', 'k'])\n",
    "\n",
    "import warnings\n",
    "warnings.simplefilter(\"ignore\")\n",
    "\n",
    "\n",
    "import matplotlib as mpl\n",
    "mpl.rcParams['font.size'] = 16\n",
    "mpl.rcParams['legend.fontsize'] = 'large'\n",
    "mpl.rcParams['figure.titlesize'] = 'large'\n",
    "\n",
    "%matplotlib inline\n",
    "%load_ext autoreload\n",
    "%autoreload 2\n",
    "%reload_ext autoreload\n",
    "\n",
    "color_cycle = cycle(['g', 'b', 'c', 'm', 'y', 'k'])\n",
    "\n",
    "\n",
    "import sys\n",
    "sys.path.append('C:\\\\Users\\\\adamimos\\\\Documents\\\\GitHub\\\\ASAC\\\\python')\n",
    "from import_rat_data import *\n",
    "from behavior_analysis import *\n",
    "#from decoder_functions import *\n",
    "\n",
    "def simpleaxis(ax):\n",
    "    ax.spines['top'].set_visible(False)\n",
    "    ax.spines['right'].set_visible(False)\n",
    "    ax.get_xaxis().tick_bottom()\n",
    "    ax.get_yaxis().tick_left()\n",
    "    \n",
    "from ipywidgets import interact, interactive, fixed, interact_manual\n",
    "import ipywidgets as widgets\n",
    "\n",
    "import cv2\n",
    "from imblearn.under_sampling import RandomUnderSampler\n",
    "from collections import Counter\n",
    "from sklearn.model_selection import cross_validate"
   ]
  },
  {
   "cell_type": "code",
   "execution_count": 311,
   "metadata": {},
   "outputs": [
    {
     "ename": "FileNotFoundError",
     "evalue": "[Errno 2] No such file or directory: 'C:\\\\Users\\\\adamimos\\\\Documents\\\\DATA\\\\Complete_data_files\\\\RSKTask\\\\adam0_20181015.pickle'",
     "output_type": "error",
     "traceback": [
      "\u001b[1;31m---------------------------------------------------------------------------\u001b[0m",
      "\u001b[1;31mFileNotFoundError\u001b[0m                         Traceback (most recent call last)",
      "\u001b[1;32m<ipython-input-311-31527dd901d2>\u001b[0m in \u001b[0;36m<module>\u001b[1;34m()\u001b[0m\n\u001b[1;32m----> 1\u001b[1;33m \u001b[0mfile\u001b[0m \u001b[1;33m=\u001b[0m \u001b[0mopen\u001b[0m\u001b[1;33m(\u001b[0m\u001b[1;34m\"C:\\\\Users\\\\adamimos\\\\Documents\\\\DATA\\\\Complete_data_files\\\\RSKTask\\\\adam0_20181015.pickle\"\u001b[0m\u001b[1;33m,\u001b[0m\u001b[1;34m'rb'\u001b[0m\u001b[1;33m)\u001b[0m\u001b[1;33m\u001b[0m\u001b[0m\n\u001b[0m\u001b[0;32m      2\u001b[0m \u001b[0mdata\u001b[0m \u001b[1;33m=\u001b[0m \u001b[0mpickle\u001b[0m\u001b[1;33m.\u001b[0m\u001b[0mload\u001b[0m\u001b[1;33m(\u001b[0m\u001b[0mfile\u001b[0m\u001b[1;33m)\u001b[0m\u001b[1;33m\u001b[0m\u001b[0m\n\u001b[0;32m      3\u001b[0m \u001b[0mfile\u001b[0m\u001b[1;33m.\u001b[0m\u001b[0mclose\u001b[0m\u001b[1;33m(\u001b[0m\u001b[1;33m)\u001b[0m\u001b[1;33m\u001b[0m\u001b[0m\n",
      "\u001b[1;31mFileNotFoundError\u001b[0m: [Errno 2] No such file or directory: 'C:\\\\Users\\\\adamimos\\\\Documents\\\\DATA\\\\Complete_data_files\\\\RSKTask\\\\adam0_20181015.pickle'"
     ]
    }
   ],
   "source": [
    "file = open(\"C:\\\\Users\\\\adamimos\\\\Documents\\\\DATA\\\\Complete_data_files\\\\RSKTask\\\\.pickle\",'rb')\n",
    "data = pickle.load(file)\n",
    "file.close()   "
   ]
  },
  {
   "cell_type": "code",
   "execution_count": 96,
   "metadata": {},
   "outputs": [],
   "source": [
    "file = open(\"C:\\\\Users\\\\adamimos\\\\Documents\\\\DATA\\\\Complete_data_files\\\\Gratings45ContrastTask\\\\Adam0_20190515.pickle\",'rb')\n",
    "file = open(\"C:\\\\Users\\\\adamimos\\\\Documents\\\\DATA\\\\Complete_data_files\\\\GratingsLRcontrastTask\\\\Adam0_20190303.pickle\",'rb')\n",
    "\n",
    "#file = open(\"C:\\\\Users\\\\adamimos\\\\Documents\\\\DATA\\\\Complete_data_files\\\\MotionPulses45\\\\adam0_20190812b.pickle\",'rb')\n",
    "data = pickle.load(file)\n",
    "file.close()   "
   ]
  },
  {
   "cell_type": "code",
   "execution_count": 153,
   "metadata": {},
   "outputs": [],
   "source": [
    "file = open(\"C:\\\\Users\\\\adamimos\\\\Documents\\\\DATA\\\\Complete_data_files\\\\OriCloudsTask\\\\Adam0_20190429.pickle\",'rb')\n",
    "data = pickle.load(file)\n",
    "file.close()   "
   ]
  },
  {
   "cell_type": "code",
   "execution_count": 157,
   "metadata": {},
   "outputs": [],
   "source": [
    "file = open(\"C:\\\\Users\\\\adamimos\\\\Documents\\\\DATA\\\\Complete_data_files\\\\OriCloudsTask\\\\Adam0_20190428.pickle\",'rb')\n",
    "data = pickle.load(file)\n",
    "file.close()   "
   ]
  },
  {
   "cell_type": "code",
   "execution_count": 139,
   "metadata": {},
   "outputs": [],
   "source": [
    "file = open(\"C:\\\\Users\\\\adamimos\\\\Documents\\\\DATA\\\\Complete_data_files\\\\RDKPriorsTask\\\\Terry20190212.pickle\",'rb')\n",
    "#file = open(\"C:\\\\Users\\\\adamimos\\\\Documents\\\\DATA\\\\Complete_data_files\\\\RDKPriorsTask\\\\adam0_20181015.pickle\",'rb')\n",
    "#file = open(\"C:\\\\Users\\\\adamimos\\\\Documents\\\\DATA\\\\Complete_data_files\\\\RDKPriorsTask\\\\centerhold_20190801.pickle\",'rb')\n",
    "\n",
    "data = pickle.load(file)\n",
    "file.close()   "
   ]
  },
  {
   "cell_type": "code",
   "execution_count": 142,
   "metadata": {},
   "outputs": [],
   "source": [
    "file = open(\"C:\\\\Users\\\\adamimos\\\\Documents\\\\DATA\\\\Complete_data_files\\\\MotionPulses\\\\adam0_20190729.pickle\",'rb')\n",
    "data = pickle.load(file)\n",
    "file.close()   "
   ]
  },
  {
   "cell_type": "code",
   "execution_count": 259,
   "metadata": {},
   "outputs": [],
   "source": [
    "file = open(\"C:\\\\Users\\\\adamimos\\\\Documents\\\\DATA\\\\Complete_data_files\\\\RetinotopiCmapping\\\\Adam0_20190625.pickle\",'rb')\n",
    "data = pickle.load(file)\n",
    "file.close()   "
   ]
  },
  {
   "cell_type": "code",
   "execution_count": 81,
   "metadata": {},
   "outputs": [],
   "source": [
    "file = open(\"C:\\\\Users\\\\adamimos\\\\Documents\\\\DATA\\\\Complete_data_files\\\\GratingTaskRotate\\\\Adam0_20190516.pickle\",'rb')\n",
    "data = pickle.load(file)\n",
    "file.close()   "
   ]
  },
  {
   "cell_type": "code",
   "execution_count": 2,
   "metadata": {},
   "outputs": [],
   "source": [
    "file = open(\"C:\\\\Users\\\\adamimos\\\\Documents\\\\DATA\\\\Complete_data_files\\\\MotionPulses45\\\\centerhold_20190808.pickle\",'rb')\n",
    "file = open(\"C:\\\\Users\\\\adamimos\\\\Documents\\\\DATA\\\\Complete_data_files\\\\MotionPulses45\\\\adam0_20190823.pickle\",'rb')\n",
    "\n",
    "data = pickle.load(file)\n",
    "file.close()   "
   ]
  },
  {
   "cell_type": "code",
   "execution_count": 60,
   "metadata": {},
   "outputs": [
    {
     "data": {
      "text/plain": [
       "0"
      ]
     },
     "execution_count": 60,
     "metadata": {},
     "output_type": "execute_result"
    }
   ],
   "source": [
    "np.isnan(data['all_data']['traces']).sum()"
   ]
  },
  {
   "cell_type": "code",
   "execution_count": 61,
   "metadata": {},
   "outputs": [
    {
     "data": {
      "text/plain": [
       "0"
      ]
     },
     "execution_count": 61,
     "metadata": {},
     "output_type": "execute_result"
    }
   ],
   "source": [
    "np.isnan(data['completed_trials_data']['traces_stim_aligned']).sum()"
   ]
  },
  {
   "cell_type": "code",
   "execution_count": 6,
   "metadata": {},
   "outputs": [],
   "source": [
    "def decode_one_per_timepoint(traces,to_decode,n_repeats=40):\n",
    "\n",
    "    data_over_time = []\n",
    "\n",
    "    bar = pyprind.ProgBar(traces.shape[2], track_time=True)\n",
    "\n",
    "    for t in range(traces.shape[2]):\n",
    "\n",
    "        data_ = []\n",
    "        for repeat in range(n_repeats):\n",
    "\n",
    "            # DEFINE DATASET\n",
    "            X = traces[:,:,t] # features\n",
    "            y = to_decode # category\n",
    "\n",
    "            # UNDERSAMPLE DATA TO CREATE BALANCED DATASET\n",
    "            rus = RandomUnderSampler()\n",
    "            X_resampled, y_resampled = rus.fit_resample(X, y)\n",
    "            #rus_indices = rus.sample_indices_\n",
    "            #print(sorted(Counter(y_resampled).items())) # check number of each category\n",
    "\n",
    "            # DO 10-FOLD CROSS VALIDATION\n",
    "            model = linear_model.LogisticRegression(C=1000000)\n",
    "            cv_results = cross_validate(model, X_resampled, y_resampled, cv=10)\n",
    "            data_.append(np.mean(cv_results['test_score']))\n",
    "\n",
    "        data_over_time.append(np.mean(data_))\n",
    "        bar.update()\n",
    "    \n",
    "    print(sorted(Counter(y_resampled).items())) # check number of each category    \n",
    "    return data_over_time"
   ]
  },
  {
   "cell_type": "code",
   "execution_count": 7,
   "metadata": {},
   "outputs": [],
   "source": [
    "def make_one_per_timepoint_decoders(data):\n",
    "    \n",
    "    fig = plt.figure(figsize=(20,10))\n",
    "    print('DECODER FOR CORRECT TRIALS')\n",
    "    data_to_decode_inds = np.where(data['completed_trials_data']['was_correct'])[0]\n",
    "    to_decode = data['completed_trials_data']['response_side'][data_to_decode_inds]\n",
    "    traces = data['completed_trials_data']['traces_stim_aligned'][data_to_decode_inds,:,:]\n",
    "    correct_trial_decoder = decode_one_per_timepoint(traces,to_decode)\n",
    "    plt.plot(correct_trial_decoder,label='correct trials only')\n",
    "    print(\"\")\n",
    "    \n",
    "    print('DECODER FOR RESPONSE DIR GIVEN STIM LEFT')\n",
    "    un = np.unique(data['completed_trials_data']['correct_side'])\n",
    "    data_to_decode_inds = np.where(data['completed_trials_data']['correct_side']==un[1])[0]\n",
    "    to_decode = data['completed_trials_data']['response_side'][data_to_decode_inds]\n",
    "    traces = data['completed_trials_data']['traces_stim_aligned'][data_to_decode_inds,:,:]\n",
    "    resp_decoder_stim_left = decode_one_per_timepoint(traces,to_decode)\n",
    "    plt.plot(resp_decoder_stim_left,label='resp given stim left')\n",
    "    print(\"\")\n",
    "    \n",
    "    print('DECODER FOR RESPONSE DIR GIVEN STIM RIGHT')\n",
    "    un = np.unique(data['completed_trials_data']['correct_side'])\n",
    "    data_to_decode_inds = np.where(data['completed_trials_data']['correct_side']==un[0])[0]\n",
    "    to_decode = data['completed_trials_data']['response_side'][data_to_decode_inds]\n",
    "    traces = data['completed_trials_data']['traces_stim_aligned'][data_to_decode_inds,:,:]\n",
    "    resp_decoder_stim_right = decode_one_per_timepoint(traces,to_decode)\n",
    "    plt.plot(resp_decoder_stim_right,label='resp given stim right')\n",
    "    print(\"\")\n",
    "    \n",
    "    print('DECODER FOR STIM DIR GIVEN RESPONSE LEFT')\n",
    "    un = np.unique(data['completed_trials_data']['response_side'])\n",
    "    data_to_decode_inds = np.where(data['completed_trials_data']['response_side']==un[1])[0]\n",
    "    to_decode = data['completed_trials_data']['correct_side'][data_to_decode_inds]\n",
    "    traces = data['completed_trials_data']['traces_stim_aligned'][data_to_decode_inds,:,:]\n",
    "    stim_decoder_resp_left = decode_one_per_timepoint(traces,to_decode)\n",
    "    plt.plot(stim_decoder_resp_left,label='stim given resp left')\n",
    "    print(\"\")\n",
    "    \n",
    "    print('DECODER FOR STIM DIR GIVEN RESPONSE RIGHT')\n",
    "    un = np.unique(data['completed_trials_data']['response_side'])\n",
    "    data_to_decode_inds = np.where(data['completed_trials_data']['response_side']==un[0])[0]\n",
    "    to_decode = data['completed_trials_data']['correct_side'][data_to_decode_inds]\n",
    "    traces = data['completed_trials_data']['traces_stim_aligned'][data_to_decode_inds,:,:]\n",
    "    stim_decoder_resp_right = decode_one_per_timepoint(traces,to_decode)\n",
    "    plt.plot(stim_decoder_resp_right,label='stim given resp right')\n",
    "    print(\"\")\n",
    "    \n",
    "    plt.legend()\n",
    "    "
   ]
  },
  {
   "cell_type": "code",
   "execution_count": 8,
   "metadata": {},
   "outputs": [
    {
     "name": "stdout",
     "output_type": "stream",
     "text": [
      "DECODER FOR CORRECT TRIALS\n"
     ]
    },
    {
     "ename": "KeyboardInterrupt",
     "evalue": "",
     "output_type": "error",
     "traceback": [
      "\u001b[1;31m---------------------------------------------------------------------------\u001b[0m",
      "\u001b[1;31mKeyboardInterrupt\u001b[0m                         Traceback (most recent call last)",
      "\u001b[1;32m<ipython-input-8-7add21b01c75>\u001b[0m in \u001b[0;36m<module>\u001b[1;34m()\u001b[0m\n\u001b[1;32m----> 1\u001b[1;33m \u001b[0mmake_one_per_timepoint_decoders\u001b[0m\u001b[1;33m(\u001b[0m\u001b[0mdata\u001b[0m\u001b[1;33m)\u001b[0m\u001b[1;33m\u001b[0m\u001b[0m\n\u001b[0m",
      "\u001b[1;32m<ipython-input-7-7bbf072a50fc>\u001b[0m in \u001b[0;36mmake_one_per_timepoint_decoders\u001b[1;34m(data)\u001b[0m\n\u001b[0;32m      6\u001b[0m     \u001b[0mto_decode\u001b[0m \u001b[1;33m=\u001b[0m \u001b[0mdata\u001b[0m\u001b[1;33m[\u001b[0m\u001b[1;34m'completed_trials_data'\u001b[0m\u001b[1;33m]\u001b[0m\u001b[1;33m[\u001b[0m\u001b[1;34m'response_side'\u001b[0m\u001b[1;33m]\u001b[0m\u001b[1;33m[\u001b[0m\u001b[0mdata_to_decode_inds\u001b[0m\u001b[1;33m]\u001b[0m\u001b[1;33m\u001b[0m\u001b[0m\n\u001b[0;32m      7\u001b[0m     \u001b[0mtraces\u001b[0m \u001b[1;33m=\u001b[0m \u001b[0mdata\u001b[0m\u001b[1;33m[\u001b[0m\u001b[1;34m'completed_trials_data'\u001b[0m\u001b[1;33m]\u001b[0m\u001b[1;33m[\u001b[0m\u001b[1;34m'traces_stim_aligned'\u001b[0m\u001b[1;33m]\u001b[0m\u001b[1;33m[\u001b[0m\u001b[0mdata_to_decode_inds\u001b[0m\u001b[1;33m,\u001b[0m\u001b[1;33m:\u001b[0m\u001b[1;33m,\u001b[0m\u001b[1;33m:\u001b[0m\u001b[1;33m]\u001b[0m\u001b[1;33m\u001b[0m\u001b[0m\n\u001b[1;32m----> 8\u001b[1;33m     \u001b[0mcorrect_trial_decoder\u001b[0m \u001b[1;33m=\u001b[0m \u001b[0mdecode_one_per_timepoint\u001b[0m\u001b[1;33m(\u001b[0m\u001b[0mtraces\u001b[0m\u001b[1;33m,\u001b[0m\u001b[0mto_decode\u001b[0m\u001b[1;33m)\u001b[0m\u001b[1;33m\u001b[0m\u001b[0m\n\u001b[0m\u001b[0;32m      9\u001b[0m     \u001b[0mplt\u001b[0m\u001b[1;33m.\u001b[0m\u001b[0mplot\u001b[0m\u001b[1;33m(\u001b[0m\u001b[0mcorrect_trial_decoder\u001b[0m\u001b[1;33m,\u001b[0m\u001b[0mlabel\u001b[0m\u001b[1;33m=\u001b[0m\u001b[1;34m'correct trials only'\u001b[0m\u001b[1;33m)\u001b[0m\u001b[1;33m\u001b[0m\u001b[0m\n\u001b[0;32m     10\u001b[0m     \u001b[0mprint\u001b[0m\u001b[1;33m(\u001b[0m\u001b[1;34m\"\"\u001b[0m\u001b[1;33m)\u001b[0m\u001b[1;33m\u001b[0m\u001b[0m\n",
      "\u001b[1;32m<ipython-input-6-73c45f4fc2f8>\u001b[0m in \u001b[0;36mdecode_one_per_timepoint\u001b[1;34m(traces, to_decode, n_repeats)\u001b[0m\n\u001b[0;32m     22\u001b[0m             \u001b[1;31m# DO 10-FOLD CROSS VALIDATION\u001b[0m\u001b[1;33m\u001b[0m\u001b[1;33m\u001b[0m\u001b[0m\n\u001b[0;32m     23\u001b[0m             \u001b[0mmodel\u001b[0m \u001b[1;33m=\u001b[0m \u001b[0mlinear_model\u001b[0m\u001b[1;33m.\u001b[0m\u001b[0mLogisticRegression\u001b[0m\u001b[1;33m(\u001b[0m\u001b[0mC\u001b[0m\u001b[1;33m=\u001b[0m\u001b[1;36m1000000\u001b[0m\u001b[1;33m)\u001b[0m\u001b[1;33m\u001b[0m\u001b[0m\n\u001b[1;32m---> 24\u001b[1;33m             \u001b[0mcv_results\u001b[0m \u001b[1;33m=\u001b[0m \u001b[0mcross_validate\u001b[0m\u001b[1;33m(\u001b[0m\u001b[0mmodel\u001b[0m\u001b[1;33m,\u001b[0m \u001b[0mX_resampled\u001b[0m\u001b[1;33m,\u001b[0m \u001b[0my_resampled\u001b[0m\u001b[1;33m,\u001b[0m \u001b[0mcv\u001b[0m\u001b[1;33m=\u001b[0m\u001b[1;36m10\u001b[0m\u001b[1;33m)\u001b[0m\u001b[1;33m\u001b[0m\u001b[0m\n\u001b[0m\u001b[0;32m     25\u001b[0m             \u001b[0mdata_\u001b[0m\u001b[1;33m.\u001b[0m\u001b[0mappend\u001b[0m\u001b[1;33m(\u001b[0m\u001b[0mnp\u001b[0m\u001b[1;33m.\u001b[0m\u001b[0mmean\u001b[0m\u001b[1;33m(\u001b[0m\u001b[0mcv_results\u001b[0m\u001b[1;33m[\u001b[0m\u001b[1;34m'test_score'\u001b[0m\u001b[1;33m]\u001b[0m\u001b[1;33m)\u001b[0m\u001b[1;33m)\u001b[0m\u001b[1;33m\u001b[0m\u001b[0m\n\u001b[0;32m     26\u001b[0m \u001b[1;33m\u001b[0m\u001b[0m\n",
      "\u001b[1;32m~\\Anaconda3\\lib\\site-packages\\sklearn\\model_selection\\_validation.py\u001b[0m in \u001b[0;36mcross_validate\u001b[1;34m(estimator, X, y, groups, scoring, cv, n_jobs, verbose, fit_params, pre_dispatch, return_train_score, return_estimator, error_score)\u001b[0m\n\u001b[0;32m    229\u001b[0m             \u001b[0mreturn_times\u001b[0m\u001b[1;33m=\u001b[0m\u001b[1;32mTrue\u001b[0m\u001b[1;33m,\u001b[0m \u001b[0mreturn_estimator\u001b[0m\u001b[1;33m=\u001b[0m\u001b[0mreturn_estimator\u001b[0m\u001b[1;33m,\u001b[0m\u001b[1;33m\u001b[0m\u001b[0m\n\u001b[0;32m    230\u001b[0m             error_score=error_score)\n\u001b[1;32m--> 231\u001b[1;33m         for train, test in cv.split(X, y, groups))\n\u001b[0m\u001b[0;32m    232\u001b[0m \u001b[1;33m\u001b[0m\u001b[0m\n\u001b[0;32m    233\u001b[0m     \u001b[0mzipped_scores\u001b[0m \u001b[1;33m=\u001b[0m \u001b[0mlist\u001b[0m\u001b[1;33m(\u001b[0m\u001b[0mzip\u001b[0m\u001b[1;33m(\u001b[0m\u001b[1;33m*\u001b[0m\u001b[0mscores\u001b[0m\u001b[1;33m)\u001b[0m\u001b[1;33m)\u001b[0m\u001b[1;33m\u001b[0m\u001b[0m\n",
      "\u001b[1;32m~\\Anaconda3\\lib\\site-packages\\joblib\\parallel.py\u001b[0m in \u001b[0;36m__call__\u001b[1;34m(self, iterable)\u001b[0m\n\u001b[0;32m    950\u001b[0m                 \u001b[0mself\u001b[0m\u001b[1;33m.\u001b[0m\u001b[0m_iterating\u001b[0m \u001b[1;33m=\u001b[0m \u001b[0mself\u001b[0m\u001b[1;33m.\u001b[0m\u001b[0m_original_iterator\u001b[0m \u001b[1;32mis\u001b[0m \u001b[1;32mnot\u001b[0m \u001b[1;32mNone\u001b[0m\u001b[1;33m\u001b[0m\u001b[0m\n\u001b[0;32m    951\u001b[0m \u001b[1;33m\u001b[0m\u001b[0m\n\u001b[1;32m--> 952\u001b[1;33m             \u001b[1;32mwhile\u001b[0m \u001b[0mself\u001b[0m\u001b[1;33m.\u001b[0m\u001b[0mdispatch_one_batch\u001b[0m\u001b[1;33m(\u001b[0m\u001b[0miterator\u001b[0m\u001b[1;33m)\u001b[0m\u001b[1;33m:\u001b[0m\u001b[1;33m\u001b[0m\u001b[0m\n\u001b[0m\u001b[0;32m    953\u001b[0m                 \u001b[1;32mpass\u001b[0m\u001b[1;33m\u001b[0m\u001b[0m\n\u001b[0;32m    954\u001b[0m \u001b[1;33m\u001b[0m\u001b[0m\n",
      "\u001b[1;32m~\\Anaconda3\\lib\\site-packages\\joblib\\parallel.py\u001b[0m in \u001b[0;36mdispatch_one_batch\u001b[1;34m(self, iterator)\u001b[0m\n\u001b[0;32m    789\u001b[0m                 \u001b[1;32mreturn\u001b[0m \u001b[1;32mFalse\u001b[0m\u001b[1;33m\u001b[0m\u001b[0m\n\u001b[0;32m    790\u001b[0m             \u001b[1;32melse\u001b[0m\u001b[1;33m:\u001b[0m\u001b[1;33m\u001b[0m\u001b[0m\n\u001b[1;32m--> 791\u001b[1;33m                 \u001b[0mself\u001b[0m\u001b[1;33m.\u001b[0m\u001b[0m_dispatch\u001b[0m\u001b[1;33m(\u001b[0m\u001b[0mtasks\u001b[0m\u001b[1;33m)\u001b[0m\u001b[1;33m\u001b[0m\u001b[0m\n\u001b[0m\u001b[0;32m    792\u001b[0m                 \u001b[1;32mreturn\u001b[0m \u001b[1;32mTrue\u001b[0m\u001b[1;33m\u001b[0m\u001b[0m\n\u001b[0;32m    793\u001b[0m \u001b[1;33m\u001b[0m\u001b[0m\n",
      "\u001b[1;32m~\\Anaconda3\\lib\\site-packages\\joblib\\parallel.py\u001b[0m in \u001b[0;36m_dispatch\u001b[1;34m(self, batch)\u001b[0m\n\u001b[0;32m    746\u001b[0m         \u001b[1;32mwith\u001b[0m \u001b[0mself\u001b[0m\u001b[1;33m.\u001b[0m\u001b[0m_lock\u001b[0m\u001b[1;33m:\u001b[0m\u001b[1;33m\u001b[0m\u001b[0m\n\u001b[0;32m    747\u001b[0m             \u001b[0mjob_idx\u001b[0m \u001b[1;33m=\u001b[0m \u001b[0mlen\u001b[0m\u001b[1;33m(\u001b[0m\u001b[0mself\u001b[0m\u001b[1;33m.\u001b[0m\u001b[0m_jobs\u001b[0m\u001b[1;33m)\u001b[0m\u001b[1;33m\u001b[0m\u001b[0m\n\u001b[1;32m--> 748\u001b[1;33m             \u001b[0mjob\u001b[0m \u001b[1;33m=\u001b[0m \u001b[0mself\u001b[0m\u001b[1;33m.\u001b[0m\u001b[0m_backend\u001b[0m\u001b[1;33m.\u001b[0m\u001b[0mapply_async\u001b[0m\u001b[1;33m(\u001b[0m\u001b[0mbatch\u001b[0m\u001b[1;33m,\u001b[0m \u001b[0mcallback\u001b[0m\u001b[1;33m=\u001b[0m\u001b[0mcb\u001b[0m\u001b[1;33m)\u001b[0m\u001b[1;33m\u001b[0m\u001b[0m\n\u001b[0m\u001b[0;32m    749\u001b[0m             \u001b[1;31m# A job can complete so quickly than its callback is\u001b[0m\u001b[1;33m\u001b[0m\u001b[1;33m\u001b[0m\u001b[0m\n\u001b[0;32m    750\u001b[0m             \u001b[1;31m# called before we get here, causing self._jobs to\u001b[0m\u001b[1;33m\u001b[0m\u001b[1;33m\u001b[0m\u001b[0m\n",
      "\u001b[1;32m~\\Anaconda3\\lib\\site-packages\\joblib\\_parallel_backends.py\u001b[0m in \u001b[0;36mapply_async\u001b[1;34m(self, func, callback)\u001b[0m\n\u001b[0;32m    181\u001b[0m     \u001b[1;32mdef\u001b[0m \u001b[0mapply_async\u001b[0m\u001b[1;33m(\u001b[0m\u001b[0mself\u001b[0m\u001b[1;33m,\u001b[0m \u001b[0mfunc\u001b[0m\u001b[1;33m,\u001b[0m \u001b[0mcallback\u001b[0m\u001b[1;33m=\u001b[0m\u001b[1;32mNone\u001b[0m\u001b[1;33m)\u001b[0m\u001b[1;33m:\u001b[0m\u001b[1;33m\u001b[0m\u001b[0m\n\u001b[0;32m    182\u001b[0m         \u001b[1;34m\"\"\"Schedule a func to be run\"\"\"\u001b[0m\u001b[1;33m\u001b[0m\u001b[0m\n\u001b[1;32m--> 183\u001b[1;33m         \u001b[0mresult\u001b[0m \u001b[1;33m=\u001b[0m \u001b[0mImmediateResult\u001b[0m\u001b[1;33m(\u001b[0m\u001b[0mfunc\u001b[0m\u001b[1;33m)\u001b[0m\u001b[1;33m\u001b[0m\u001b[0m\n\u001b[0m\u001b[0;32m    184\u001b[0m         \u001b[1;32mif\u001b[0m \u001b[0mcallback\u001b[0m\u001b[1;33m:\u001b[0m\u001b[1;33m\u001b[0m\u001b[0m\n\u001b[0;32m    185\u001b[0m             \u001b[0mcallback\u001b[0m\u001b[1;33m(\u001b[0m\u001b[0mresult\u001b[0m\u001b[1;33m)\u001b[0m\u001b[1;33m\u001b[0m\u001b[0m\n",
      "\u001b[1;32m~\\Anaconda3\\lib\\site-packages\\joblib\\_parallel_backends.py\u001b[0m in \u001b[0;36m__init__\u001b[1;34m(self, batch)\u001b[0m\n\u001b[0;32m    541\u001b[0m         \u001b[1;31m# Don't delay the application, to avoid keeping the input\u001b[0m\u001b[1;33m\u001b[0m\u001b[1;33m\u001b[0m\u001b[0m\n\u001b[0;32m    542\u001b[0m         \u001b[1;31m# arguments in memory\u001b[0m\u001b[1;33m\u001b[0m\u001b[1;33m\u001b[0m\u001b[0m\n\u001b[1;32m--> 543\u001b[1;33m         \u001b[0mself\u001b[0m\u001b[1;33m.\u001b[0m\u001b[0mresults\u001b[0m \u001b[1;33m=\u001b[0m \u001b[0mbatch\u001b[0m\u001b[1;33m(\u001b[0m\u001b[1;33m)\u001b[0m\u001b[1;33m\u001b[0m\u001b[0m\n\u001b[0m\u001b[0;32m    544\u001b[0m \u001b[1;33m\u001b[0m\u001b[0m\n\u001b[0;32m    545\u001b[0m     \u001b[1;32mdef\u001b[0m \u001b[0mget\u001b[0m\u001b[1;33m(\u001b[0m\u001b[0mself\u001b[0m\u001b[1;33m)\u001b[0m\u001b[1;33m:\u001b[0m\u001b[1;33m\u001b[0m\u001b[0m\n",
      "\u001b[1;32m~\\Anaconda3\\lib\\site-packages\\joblib\\parallel.py\u001b[0m in \u001b[0;36m__call__\u001b[1;34m(self)\u001b[0m\n\u001b[0;32m    222\u001b[0m         \u001b[1;32mwith\u001b[0m \u001b[0mparallel_backend\u001b[0m\u001b[1;33m(\u001b[0m\u001b[0mself\u001b[0m\u001b[1;33m.\u001b[0m\u001b[0m_backend\u001b[0m\u001b[1;33m)\u001b[0m\u001b[1;33m:\u001b[0m\u001b[1;33m\u001b[0m\u001b[0m\n\u001b[0;32m    223\u001b[0m             return [func(*args, **kwargs)\n\u001b[1;32m--> 224\u001b[1;33m                     for func, args, kwargs in self.items]\n\u001b[0m\u001b[0;32m    225\u001b[0m \u001b[1;33m\u001b[0m\u001b[0m\n\u001b[0;32m    226\u001b[0m     \u001b[1;32mdef\u001b[0m \u001b[0m__len__\u001b[0m\u001b[1;33m(\u001b[0m\u001b[0mself\u001b[0m\u001b[1;33m)\u001b[0m\u001b[1;33m:\u001b[0m\u001b[1;33m\u001b[0m\u001b[0m\n",
      "\u001b[1;32m~\\Anaconda3\\lib\\site-packages\\joblib\\parallel.py\u001b[0m in \u001b[0;36m<listcomp>\u001b[1;34m(.0)\u001b[0m\n\u001b[0;32m    222\u001b[0m         \u001b[1;32mwith\u001b[0m \u001b[0mparallel_backend\u001b[0m\u001b[1;33m(\u001b[0m\u001b[0mself\u001b[0m\u001b[1;33m.\u001b[0m\u001b[0m_backend\u001b[0m\u001b[1;33m)\u001b[0m\u001b[1;33m:\u001b[0m\u001b[1;33m\u001b[0m\u001b[0m\n\u001b[0;32m    223\u001b[0m             return [func(*args, **kwargs)\n\u001b[1;32m--> 224\u001b[1;33m                     for func, args, kwargs in self.items]\n\u001b[0m\u001b[0;32m    225\u001b[0m \u001b[1;33m\u001b[0m\u001b[0m\n\u001b[0;32m    226\u001b[0m     \u001b[1;32mdef\u001b[0m \u001b[0m__len__\u001b[0m\u001b[1;33m(\u001b[0m\u001b[0mself\u001b[0m\u001b[1;33m)\u001b[0m\u001b[1;33m:\u001b[0m\u001b[1;33m\u001b[0m\u001b[0m\n",
      "\u001b[1;32m~\\Anaconda3\\lib\\site-packages\\sklearn\\model_selection\\_validation.py\u001b[0m in \u001b[0;36m_fit_and_score\u001b[1;34m(estimator, X, y, scorer, train, test, verbose, parameters, fit_params, return_train_score, return_parameters, return_n_test_samples, return_times, return_estimator, error_score)\u001b[0m\n\u001b[0;32m    512\u001b[0m             \u001b[0mestimator\u001b[0m\u001b[1;33m.\u001b[0m\u001b[0mfit\u001b[0m\u001b[1;33m(\u001b[0m\u001b[0mX_train\u001b[0m\u001b[1;33m,\u001b[0m \u001b[1;33m**\u001b[0m\u001b[0mfit_params\u001b[0m\u001b[1;33m)\u001b[0m\u001b[1;33m\u001b[0m\u001b[0m\n\u001b[0;32m    513\u001b[0m         \u001b[1;32melse\u001b[0m\u001b[1;33m:\u001b[0m\u001b[1;33m\u001b[0m\u001b[0m\n\u001b[1;32m--> 514\u001b[1;33m             \u001b[0mestimator\u001b[0m\u001b[1;33m.\u001b[0m\u001b[0mfit\u001b[0m\u001b[1;33m(\u001b[0m\u001b[0mX_train\u001b[0m\u001b[1;33m,\u001b[0m \u001b[0my_train\u001b[0m\u001b[1;33m,\u001b[0m \u001b[1;33m**\u001b[0m\u001b[0mfit_params\u001b[0m\u001b[1;33m)\u001b[0m\u001b[1;33m\u001b[0m\u001b[0m\n\u001b[0m\u001b[0;32m    515\u001b[0m \u001b[1;33m\u001b[0m\u001b[0m\n\u001b[0;32m    516\u001b[0m     \u001b[1;32mexcept\u001b[0m \u001b[0mException\u001b[0m \u001b[1;32mas\u001b[0m \u001b[0me\u001b[0m\u001b[1;33m:\u001b[0m\u001b[1;33m\u001b[0m\u001b[0m\n",
      "\u001b[1;32m~\\Anaconda3\\lib\\site-packages\\sklearn\\linear_model\\logistic.py\u001b[0m in \u001b[0;36mfit\u001b[1;34m(self, X, y, sample_weight)\u001b[0m\n\u001b[0;32m   1547\u001b[0m                 \u001b[0mself\u001b[0m\u001b[1;33m.\u001b[0m\u001b[0mclass_weight\u001b[0m\u001b[1;33m,\u001b[0m \u001b[0mself\u001b[0m\u001b[1;33m.\u001b[0m\u001b[0mpenalty\u001b[0m\u001b[1;33m,\u001b[0m \u001b[0mself\u001b[0m\u001b[1;33m.\u001b[0m\u001b[0mdual\u001b[0m\u001b[1;33m,\u001b[0m \u001b[0mself\u001b[0m\u001b[1;33m.\u001b[0m\u001b[0mverbose\u001b[0m\u001b[1;33m,\u001b[0m\u001b[1;33m\u001b[0m\u001b[0m\n\u001b[0;32m   1548\u001b[0m                 \u001b[0mself\u001b[0m\u001b[1;33m.\u001b[0m\u001b[0mmax_iter\u001b[0m\u001b[1;33m,\u001b[0m \u001b[0mself\u001b[0m\u001b[1;33m.\u001b[0m\u001b[0mtol\u001b[0m\u001b[1;33m,\u001b[0m \u001b[0mself\u001b[0m\u001b[1;33m.\u001b[0m\u001b[0mrandom_state\u001b[0m\u001b[1;33m,\u001b[0m\u001b[1;33m\u001b[0m\u001b[0m\n\u001b[1;32m-> 1549\u001b[1;33m                 sample_weight=sample_weight)\n\u001b[0m\u001b[0;32m   1550\u001b[0m             \u001b[0mself\u001b[0m\u001b[1;33m.\u001b[0m\u001b[0mn_iter_\u001b[0m \u001b[1;33m=\u001b[0m \u001b[0mnp\u001b[0m\u001b[1;33m.\u001b[0m\u001b[0marray\u001b[0m\u001b[1;33m(\u001b[0m\u001b[1;33m[\u001b[0m\u001b[0mn_iter_\u001b[0m\u001b[1;33m]\u001b[0m\u001b[1;33m)\u001b[0m\u001b[1;33m\u001b[0m\u001b[0m\n\u001b[0;32m   1551\u001b[0m             \u001b[1;32mreturn\u001b[0m \u001b[0mself\u001b[0m\u001b[1;33m\u001b[0m\u001b[0m\n",
      "\u001b[1;32m~\\Anaconda3\\lib\\site-packages\\sklearn\\svm\\base.py\u001b[0m in \u001b[0;36m_fit_liblinear\u001b[1;34m(X, y, C, fit_intercept, intercept_scaling, class_weight, penalty, dual, verbose, max_iter, tol, random_state, multi_class, loss, epsilon, sample_weight)\u001b[0m\n\u001b[0;32m    919\u001b[0m         \u001b[0mX\u001b[0m\u001b[1;33m,\u001b[0m \u001b[0my_ind\u001b[0m\u001b[1;33m,\u001b[0m \u001b[0msp\u001b[0m\u001b[1;33m.\u001b[0m\u001b[0misspmatrix\u001b[0m\u001b[1;33m(\u001b[0m\u001b[0mX\u001b[0m\u001b[1;33m)\u001b[0m\u001b[1;33m,\u001b[0m \u001b[0msolver_type\u001b[0m\u001b[1;33m,\u001b[0m \u001b[0mtol\u001b[0m\u001b[1;33m,\u001b[0m \u001b[0mbias\u001b[0m\u001b[1;33m,\u001b[0m \u001b[0mC\u001b[0m\u001b[1;33m,\u001b[0m\u001b[1;33m\u001b[0m\u001b[0m\n\u001b[0;32m    920\u001b[0m         \u001b[0mclass_weight_\u001b[0m\u001b[1;33m,\u001b[0m \u001b[0mmax_iter\u001b[0m\u001b[1;33m,\u001b[0m \u001b[0mrnd\u001b[0m\u001b[1;33m.\u001b[0m\u001b[0mrandint\u001b[0m\u001b[1;33m(\u001b[0m\u001b[0mnp\u001b[0m\u001b[1;33m.\u001b[0m\u001b[0miinfo\u001b[0m\u001b[1;33m(\u001b[0m\u001b[1;34m'i'\u001b[0m\u001b[1;33m)\u001b[0m\u001b[1;33m.\u001b[0m\u001b[0mmax\u001b[0m\u001b[1;33m)\u001b[0m\u001b[1;33m,\u001b[0m\u001b[1;33m\u001b[0m\u001b[0m\n\u001b[1;32m--> 921\u001b[1;33m         epsilon, sample_weight)\n\u001b[0m\u001b[0;32m    922\u001b[0m     \u001b[1;31m# Regarding rnd.randint(..) in the above signature:\u001b[0m\u001b[1;33m\u001b[0m\u001b[1;33m\u001b[0m\u001b[0m\n\u001b[0;32m    923\u001b[0m     \u001b[1;31m# seed for srand in range [0..INT_MAX); due to limitations in Numpy\u001b[0m\u001b[1;33m\u001b[0m\u001b[1;33m\u001b[0m\u001b[0m\n",
      "\u001b[1;31mKeyboardInterrupt\u001b[0m: "
     ]
    },
    {
     "data": {
      "text/plain": [
       "<Figure size 1440x720 with 0 Axes>"
      ]
     },
     "metadata": {},
     "output_type": "display_data"
    }
   ],
   "source": [
    "make_one_per_timepoint_decoders(data)"
   ]
  },
  {
   "cell_type": "markdown",
   "metadata": {},
   "source": [
    "# Decode correct trials, one decoder per timepoint"
   ]
  },
  {
   "cell_type": "code",
   "execution_count": 12,
   "metadata": {},
   "outputs": [],
   "source": [
    "def decode_each_timepoint_a_sample(traces,to_decode,n_repeats = 10,time_inds = np.arange(40,60)):\n",
    "    repeat_data = []\n",
    "    bar = pyprind.ProgBar(n_repeats, track_time=True)\n",
    "\n",
    "    for r in range(n_repeats):\n",
    "        # subsample data\n",
    "        X = traces[:,:,0]\n",
    "        y = to_decode\n",
    "        rus = RandomUnderSampler()\n",
    "        X_resampled, y_resampled = rus.fit_resample(X, y)\n",
    "        rus_indices = rus.sample_indices_\n",
    "\n",
    "        # split data into ten pieces\n",
    "        np.random.shuffle(rus_indices)\n",
    "        split_inds = np.array_split(rus_indices,10)\n",
    "\n",
    "\n",
    "        acc_per_split = []\n",
    "        for i in range(len(split_inds)):\n",
    "            testing_inds = split_inds[i]\n",
    "            training_inds = np.setdiff1d(rus_indices, testing_inds)\n",
    "\n",
    "            X = traces[:,:,time_inds]\n",
    "            X = X[training_inds,:,:]\n",
    "            X = X.transpose(0,2,1)\n",
    "            X = np.reshape(X,(X.shape[0]*X.shape[1],X.shape[2]))\n",
    "            y = to_decode[training_inds] # category\n",
    "            y = np.repeat(y,len(time_inds))\n",
    "            model = linear_model.LogisticRegression(C=100)\n",
    "            model.fit(X,y)\n",
    "\n",
    "\n",
    "            # Get accuracy at every point in time of the testing data\n",
    "            acc_ = [] # holds accuracy at every ppint in time for a given split\n",
    "            for t in range(traces.shape[2]):\n",
    "                predictions = model.predict(traces[testing_inds,:,t])\n",
    "                y_ = to_decode[testing_inds]\n",
    "                acc_.append(np.mean(predictions == y_))\n",
    "            acc_per_split.append(acc_)    \n",
    "\n",
    "        repeat_data.append(np.mean(acc_per_split,axis=0))\n",
    "        bar.update()\n",
    "    return np.mean(repeat_data,axis=0)\n",
    "    \n",
    "\n"
   ]
  },
  {
   "cell_type": "code",
   "execution_count": 13,
   "metadata": {},
   "outputs": [],
   "source": [
    "def make_decoder_over_all_timepoints(data):\n",
    "    \n",
    "    fig = plt.figure(figsize=(20,10))\n",
    "    print('DECODER FOR CORRECT TRIALS')\n",
    "    data_to_decode_inds = np.where(data['completed_trials_data']['was_correct'])[0]\n",
    "    to_decode = data['completed_trials_data']['response_side'][data_to_decode_inds]\n",
    "    traces = data['completed_trials_data']['traces_stim_aligned'][data_to_decode_inds,:,:]\n",
    "    correct_trial_decoder = decode_each_timepoint_a_sample(traces,to_decode)\n",
    "    plt.plot(correct_trial_decoder,label='correct trials only')\n",
    "    print(\"\")\n",
    "    \n",
    "    print('DECODER FOR RESPONSE DIR GIVEN STIM LEFT')\n",
    "    un = np.unique(data['completed_trials_data']['correct_side'])\n",
    "    data_to_decode_inds = np.where(data['completed_trials_data']['correct_side']==un[1])[0]\n",
    "    to_decode = data['completed_trials_data']['response_side'][data_to_decode_inds]\n",
    "    traces = data['completed_trials_data']['traces_stim_aligned'][data_to_decode_inds,:,:]\n",
    "    resp_decoder_stim_left = decode_each_timepoint_a_sample(traces,to_decode)\n",
    "    plt.plot(resp_decoder_stim_left,label='resp given stim left')\n",
    "    print(\"\")\n",
    "    \n",
    "    print('DECODER FOR RESPONSE DIR GIVEN STIM RIGHT')\n",
    "    un = np.unique(data['completed_trials_data']['correct_side'])\n",
    "    data_to_decode_inds = np.where(data['completed_trials_data']['correct_side']==un[0])[0]\n",
    "    to_decode = data['completed_trials_data']['response_side'][data_to_decode_inds]\n",
    "    traces = data['completed_trials_data']['traces_stim_aligned'][data_to_decode_inds,:,:]\n",
    "    resp_decoder_stim_right = decode_each_timepoint_a_sample(traces,to_decode)\n",
    "    plt.plot(resp_decoder_stim_right,label='resp given stim right')\n",
    "    print(\"\")\n",
    "    \n",
    "    print('DECODER FOR STIM DIR GIVEN RESPONSE LEFT')\n",
    "    un = np.unique(data['completed_trials_data']['response_side'])\n",
    "    data_to_decode_inds = np.where(data['completed_trials_data']['response_side']==un[1])[0]\n",
    "    to_decode = data['completed_trials_data']['correct_side'][data_to_decode_inds]\n",
    "    traces = data['completed_trials_data']['traces_stim_aligned'][data_to_decode_inds,:,:]\n",
    "    stim_decoder_resp_left = decode_each_timepoint_a_sample(traces,to_decode)\n",
    "    plt.plot(stim_decoder_resp_left,label='stim given resp left')\n",
    "    print(\"\")\n",
    "    \n",
    "    print('DECODER FOR STIM DIR GIVEN RESPONSE RIGHT')\n",
    "    un = np.unique(data['completed_trials_data']['response_side'])\n",
    "    data_to_decode_inds = np.where(data['completed_trials_data']['response_side']==un[0])[0]\n",
    "    to_decode = data['completed_trials_data']['correct_side'][data_to_decode_inds]\n",
    "    traces = data['completed_trials_data']['traces_stim_aligned'][data_to_decode_inds,:,:]\n",
    "    stim_decoder_resp_right = decode_each_timepoint_a_sample(traces,to_decode)\n",
    "    plt.plot(stim_decoder_resp_right,label='stim given resp right')\n",
    "    print(\"\")\n",
    "    \n",
    "    plt.legend()"
   ]
  },
  {
   "cell_type": "code",
   "execution_count": 14,
   "metadata": {},
   "outputs": [
    {
     "name": "stdout",
     "output_type": "stream",
     "text": [
      "DECODER FOR CORRECT TRIALS\n"
     ]
    },
    {
     "name": "stderr",
     "output_type": "stream",
     "text": [
      "0% [##########] 100% | ETA: 00:00:00"
     ]
    },
    {
     "name": "stdout",
     "output_type": "stream",
     "text": [
      "\n",
      "DECODER FOR RESPONSE DIR GIVEN STIM LEFT\n"
     ]
    },
    {
     "name": "stderr",
     "output_type": "stream",
     "text": [
      "\n",
      "Total time elapsed: 00:00:15\n",
      "0% [##########] 100% | ETA: 00:00:00"
     ]
    },
    {
     "name": "stdout",
     "output_type": "stream",
     "text": [
      "\n",
      "DECODER FOR RESPONSE DIR GIVEN STIM RIGHT\n"
     ]
    },
    {
     "name": "stderr",
     "output_type": "stream",
     "text": [
      "\n",
      "Total time elapsed: 00:00:06\n",
      "0% [##########] 100% | ETA: 00:00:00"
     ]
    },
    {
     "name": "stdout",
     "output_type": "stream",
     "text": [
      "\n",
      "DECODER FOR STIM DIR GIVEN RESPONSE LEFT\n"
     ]
    },
    {
     "name": "stderr",
     "output_type": "stream",
     "text": [
      "\n",
      "Total time elapsed: 00:00:06\n",
      "0% [##########] 100% | ETA: 00:00:00"
     ]
    },
    {
     "name": "stdout",
     "output_type": "stream",
     "text": [
      "\n",
      "DECODER FOR STIM DIR GIVEN RESPONSE RIGHT\n"
     ]
    },
    {
     "name": "stderr",
     "output_type": "stream",
     "text": [
      "\n",
      "Total time elapsed: 00:00:06\n",
      "0% [##########] 100% | ETA: 00:00:00\n",
      "Total time elapsed: 00:00:06\n"
     ]
    },
    {
     "name": "stdout",
     "output_type": "stream",
     "text": [
      "\n"
     ]
    },
    {
     "data": {
      "image/png": "[encoded data removed]",
      "text/plain": [
       "<Figure size 1440x720 with 1 Axes>"
      ]
     },
     "metadata": {},
     "output_type": "display_data"
    }
   ],
   "source": [
    "\n",
    "make_decoder_over_all_timepoints(data)"
   ]
  },
  {
   "cell_type": "code",
   "execution_count": null,
   "metadata": {},
   "outputs": [],
   "source": [
    "# Make Subsampled Dataset "
   ]
  },
  {
   "cell_type": "code",
   "execution_count": 227,
   "metadata": {},
   "outputs": [
    {
     "data": {
      "text/plain": [
       "dict_keys(['was_completed', 'was_correct', 'correct_side', 'prior', 'noise', 'response_side', 'traces_stim_aligned', 'traces_resp_aligned', 'completed_inds', 'frame_info'])"
      ]
     },
     "execution_count": 227,
     "metadata": {},
     "output_type": "execute_result"
    }
   ],
   "source": [
    "data['completed_trials_data'].keys()"
   ]
  },
  {
   "cell_type": "code",
   "execution_count": 281,
   "metadata": {},
   "outputs": [],
   "source": [
    "independent_variable = noise\n",
    "data_to_avg = data['completed_trials_data']['traces_stim_aligned']\n",
    "av_traces = []\n",
    "for x in np.unique(independent_variable):\n",
    "    av_traces.append(np.mean(data_to_avg[np.where(independent_variable==x)[0],:,:],axis=0))\n",
    "av_traces = np.array(av_traces)\n"
   ]
  },
  {
   "cell_type": "code",
   "execution_count": 288,
   "metadata": {},
   "outputs": [],
   "source": [
    "import matplotlib.pylab as pl\n",
    "\n",
    "def plot_av_dir_traces(n):\n",
    "    #fig = plt.figure(figsize=(20,7))\n",
    "    colors = pl.cm.RdBu(np.linspace(0,1,data_to_avg.shape[0]))\n",
    "    #plt.subplot(1,2,1)\n",
    "    for x in range(av_traces.shape[0]):\n",
    "        plt.plot(np.squeeze(av_traces[x,n,:]),color = colors[x])  \n",
    "    plt.plot([35,35],[0,np.max(np.ravel(av_traces[:,n,:]))],'--k')\n",
    "    plt.plot([40,40],[0,np.max(np.ravel(av_traces[:,n,:]))],'--k')\n",
    "    plt.plot([47,47],[0,np.max(np.ravel(av_traces[:,n,:]))],'--k')\n",
    "    plt.xticks([35,43], ['poke','stim'])\n",
    "    plt.xlim([20,60])"
   ]
  },
  {
   "cell_type": "code",
   "execution_count": 289,
   "metadata": {},
   "outputs": [
    {
     "data": {
      "application/vnd.jupyter.widget-view+json": {
       "model_id": "fc8b9034d41f4c4baa55c10e30999f30",
       "version_major": 2,
       "version_minor": 0
      },
      "text/plain": [
       "interactive(children=(IntSlider(value=1, description='n', max=254), Output()), _dom_classes=('widget-interact'…"
      ]
     },
     "metadata": {},
     "output_type": "display_data"
    },
    {
     "data": {
      "text/plain": [
       "<function __main__.plot_av_dir_traces(n)>"
      ]
     },
     "execution_count": 289,
     "metadata": {},
     "output_type": "execute_result"
    }
   ],
   "source": [
    "interact(plot_av_dir_traces,n=widgets.IntSlider(min=0,max=data_to_avg.shape[1]-1,step=1,value=1))"
   ]
  },
  {
   "cell_type": "code",
   "execution_count": 284,
   "metadata": {},
   "outputs": [],
   "source": [
    "def plot_rasters(n):\n",
    "    #fig = plt.figure(figsize=(20,7))\n",
    "    #plt.subplot(1,2,1)\n",
    "    plt.imshow(data_to_avg[np.argsort(independent_variable),n,:],aspect='auto')\n",
    "    \n",
    "    #plt.subplot(1,2,2)\n",
    "    #plt.imshow(traces_resp_aligned[np.argsort(directions),n,:],aspect='auto')"
   ]
  },
  {
   "cell_type": "code",
   "execution_count": 285,
   "metadata": {},
   "outputs": [
    {
     "data": {
      "application/vnd.jupyter.widget-view+json": {
       "model_id": "7a07377cf9764e5c934ae354fa1abf66",
       "version_major": 2,
       "version_minor": 0
      },
      "text/plain": [
       "interactive(children=(IntSlider(value=10, description='n', max=255), Output()), _dom_classes=('widget-interact…"
      ]
     },
     "metadata": {},
     "output_type": "display_data"
    },
    {
     "data": {
      "text/plain": [
       "<function __main__.plot_rasters(n)>"
      ]
     },
     "execution_count": 285,
     "metadata": {},
     "output_type": "execute_result"
    }
   ],
   "source": [
    "interact(plot_rasters,n=widgets.IntSlider(min=0,max=av_traces.shape[1],step=1,value=10))"
   ]
  },
  {
   "cell_type": "code",
   "execution_count": 277,
   "metadata": {},
   "outputs": [],
   "source": [
    "stim_right = data['completed_trials_data']['correct_side']=='right'"
   ]
  },
  {
   "cell_type": "code",
   "execution_count": 279,
   "metadata": {},
   "outputs": [],
   "source": [
    "noise = data['completed_trials_data']['noise']\n",
    "noise[np.where(stim_right)] = -noise"
   ]
  },
  {
   "cell_type": "code",
   "execution_count": 280,
   "metadata": {},
   "outputs": [
    {
     "data": {
      "text/plain": [
       "array([ 0.5 , -0.5 ,  0.5 , -0.75,  1.  ,  1.  ,  1.  ,  1.  ,  0.75,\n",
       "        0.5 ,  0.5 ,  1.  ,  0.75, -0.5 , -0.5 , -1.  ,  0.75, -1.  ,\n",
       "        0.75, -1.  , -1.  ,  0.25,  0.5 ,  0.75,  0.75,  0.5 ,  0.75,\n",
       "       -0.75, -0.5 ,  1.  ,  0.5 ,  0.75, -0.5 ,  1.  , -1.  ,  0.5 ,\n",
       "        0.75,  1.  ,  1.  ,  1.  ,  0.5 ,  0.5 , -0.75,  0.75, -0.25,\n",
       "        0.25, -1.  ,  0.5 ,  0.25, -0.75,  1.  , -0.75,  0.5 , -0.25,\n",
       "       -0.75,  0.5 , -0.5 ,  0.75, -0.5 ,  0.25, -0.25, -0.5 ,  0.5 ,\n",
       "        0.5 ,  1.  ,  0.5 , -0.75,  0.5 ,  0.75,  1.  ,  0.75, -0.75,\n",
       "       -0.5 , -0.75,  0.75, -0.75, -1.  , -1.  ,  0.5 , -0.5 ,  0.75,\n",
       "       -0.75,  0.5 , -0.75, -1.  , -0.75, -0.5 , -0.75, -1.  ,  0.75,\n",
       "        0.25, -1.  , -1.  , -0.5 , -0.5 ,  0.75, -0.75, -0.75, -1.  ,\n",
       "        0.5 , -0.25, -0.5 , -0.5 , -0.25,  0.5 , -0.25, -1.  , -1.  ,\n",
       "       -0.5 , -0.75,  0.75,  1.  , -1.  , -0.5 ,  0.5 , -0.5 , -0.75,\n",
       "       -1.  , -0.25, -0.75, -0.75, -0.5 , -0.5 , -1.  , -0.5 , -0.25,\n",
       "       -0.5 ,  1.  , -0.75, -1.  , -0.75,  1.  , -1.  ,  0.75, -1.  ,\n",
       "       -1.  , -0.75,  0.75, -0.25, -0.25, -1.  , -0.5 , -0.75, -0.75,\n",
       "       -0.5 , -0.5 ,  0.75, -1.  ,  0.5 , -1.  ,  0.25,  1.  ,  1.  ,\n",
       "        0.25,  1.  ,  1.  ,  1.  ,  0.75, -0.5 ,  1.  , -0.75,  0.75,\n",
       "       -0.75,  1.  ,  1.  , -0.5 ,  1.  , -0.75,  0.5 ,  0.75,  0.75,\n",
       "        0.25,  1.  , -0.25,  0.25,  0.5 , -1.  ,  0.75, -1.  ,  0.5 ,\n",
       "        1.  ,  1.  ,  0.75,  0.75,  1.  ,  1.  , -1.  ,  1.  ,  1.  ,\n",
       "       -0.25,  0.75,  0.5 , -0.75, -0.25,  0.25,  1.  ,  0.5 ,  0.75,\n",
       "        0.25,  0.5 ,  1.  ,  0.25,  0.5 ,  1.  ,  0.5 , -0.5 ,  0.75,\n",
       "       -0.75,  0.25,  0.75,  0.5 , -0.5 ,  1.  ,  0.5 ,  0.75,  1.  ,\n",
       "        0.75,  1.  , -0.5 ,  0.75,  0.75, -0.75,  0.75,  0.5 ,  1.  ,\n",
       "       -0.75, -0.75, -0.5 ,  0.25, -0.75, -0.75, -0.5 , -1.  , -0.75,\n",
       "       -0.75, -1.  , -1.  ,  0.5 , -0.25, -0.5 , -0.5 ,  0.75, -0.25,\n",
       "       -0.75, -1.  , -0.75, -0.75, -0.5 , -0.5 ,  0.25, -1.  , -1.  ,\n",
       "       -1.  ,  0.5 , -0.75, -1.  , -0.5 , -0.25, -0.75, -1.  , -0.5 ,\n",
       "        0.75, -0.75, -1.  , -0.75,  1.  , -0.75, -0.75, -1.  , -1.  ,\n",
       "       -0.25, -1.  , -0.75, -0.25, -0.5 , -1.  , -0.75, -0.25,  0.75,\n",
       "       -0.5 , -0.75, -0.25, -1.  ,  0.25])"
      ]
     },
     "execution_count": 280,
     "metadata": {},
     "output_type": "execute_result"
    }
   ],
   "source": [
    "noise"
   ]
  },
  {
   "cell_type": "code",
   "execution_count": 21,
   "metadata": {},
   "outputs": [
    {
     "ename": "AttributeError",
     "evalue": "'numpy.ufunc' object has no attribute 'inner'",
     "output_type": "error",
     "traceback": [
      "\u001b[1;31m---------------------------------------------------------------------------\u001b[0m",
      "\u001b[1;31mAttributeError\u001b[0m                            Traceback (most recent call last)",
      "\u001b[1;32m<ipython-input-21-405cf8fe00cf>\u001b[0m in \u001b[0;36m<module>\u001b[1;34m()\u001b[0m\n\u001b[1;32m----> 1\u001b[1;33m \u001b[0mnp\u001b[0m\u001b[1;33m.\u001b[0m\u001b[0mmultiply\u001b[0m\u001b[1;33m.\u001b[0m\u001b[0minner\u001b[0m\u001b[1;33m(\u001b[0m\u001b[0mdata\u001b[0m\u001b[1;33m[\u001b[0m\u001b[1;34m'completed_trials_data'\u001b[0m\u001b[1;33m]\u001b[0m\u001b[1;33m[\u001b[0m\u001b[1;34m'response_side'\u001b[0m\u001b[1;33m]\u001b[0m\u001b[1;33m,\u001b[0m\u001b[0mdata\u001b[0m\u001b[1;33m[\u001b[0m\u001b[1;34m'completed_trials_data'\u001b[0m\u001b[1;33m]\u001b[0m\u001b[1;33m[\u001b[0m\u001b[1;34m'correct_side'\u001b[0m\u001b[1;33m]\u001b[0m\u001b[1;33m)\u001b[0m\u001b[1;33m\u001b[0m\u001b[0m\n\u001b[0m",
      "\u001b[1;31mAttributeError\u001b[0m: 'numpy.ufunc' object has no attribute 'inner'"
     ]
    }
   ],
   "source": [
    "[[x,y] for x in data['completed_trials_data']['response_side'] and y in data['completed_trials_data']['correct_side']"
   ]
  },
  {
   "cell_type": "code",
   "execution_count": 214,
   "metadata": {},
   "outputs": [],
   "source": [
    "\n",
    "def make_decoder2(data, category_to_decode,time_inds = np.arange(40,60),n_repeats=5):\n",
    "    repeat_data = []\n",
    "    bar = pyprind.ProgBar(n_repeats, track_time=True)\n",
    "    \n",
    "    traces = np.array(data['completed_trials_data']['traces_stim_aligned'])\n",
    "    \n",
    "    # we need to balance our dataset between all the types of stimulii and responses\n",
    "    resp = np.array(data['completed_trials_data']['response_side'])\n",
    "    stim = np.array(data['completed_trials_data']['correct_side'])\n",
    "\n",
    "    # get the labels for the responses and the stimulii\n",
    "    resp_un = np.unique(resp)\n",
    "    stim_un = np.unique(stim)\n",
    "\n",
    "    # make a list of the product of these two vectors\n",
    "    prod = list(itertools.product(resp_un,stim_un))\n",
    "\n",
    "    # number them in a dictionary\n",
    "    prod_dict = dict(zip(prod, range(len(prod))))\n",
    "\n",
    "    # convert the combos to unique numbers\n",
    "    unique_types = [prod_dict[resp[i],stim[i]] for i in range(len(resp))]\n",
    "\n",
    "\n",
    "    \n",
    "    for r in range(n_repeats):\n",
    "        rus = RandomUnderSampler()\n",
    "            # finally, do the undersampling\n",
    "        X = np.array(data['completed_trials_data']['traces_stim_aligned'])[:,:,0]\n",
    "        y = unique_types\n",
    "        X_resampled, y_resampled = rus.fit_resample(X, y)\n",
    "        rus_indices = rus.sample_indices_\n",
    "        #print(len(rus_indices))\n",
    "            \n",
    "        # split data into ten pieces\n",
    "        np.random.shuffle(rus_indices)\n",
    "        split_inds = np.array_split(rus_indices,5)\n",
    "        acc_per_split = []\n",
    "        for i in range(len(split_inds)):\n",
    "            testing_inds = split_inds[i]\n",
    "            training_inds = np.setdiff1d(rus_indices, testing_inds)\n",
    "            \n",
    "            X = traces[:,:,time_inds]\n",
    "            X = X[training_inds,:,:]\n",
    "            X = X.transpose(0,2,1)\n",
    "            X = np.reshape(X,(X.shape[0]*X.shape[1],X.shape[2]))\n",
    "            y = np.array(data['completed_trials_data'][category_to_decode])[training_inds]\n",
    "            y = np.repeat(y,len(time_inds))\n",
    "            model = linear_model.LogisticRegression(penalty='l2',C=1000)\n",
    "            model.fit(X,y)\n",
    "\n",
    "            #print(model.score(X,y))\n",
    "\n",
    "            # Get accuracy at every point in time of the testing data\n",
    "            acc_ = [] # holds accuracy at every ppint in time for a given split\n",
    "            for t in range(traces.shape[2]):\n",
    "                predictions = model.predict(traces[testing_inds,:,t])\n",
    "                y_ = np.array(data['completed_trials_data'][category_to_decode])[testing_inds]\n",
    "                acc_.append(np.mean(predictions == y_))\n",
    "            acc_per_split.append(acc_)    \n",
    "\n",
    "        repeat_data.append(np.mean(acc_per_split,axis=0))\n",
    "        bar.update()\n",
    "    print(len(rus_indices))\n",
    "    return np.mean(repeat_data,axis=0)    \n",
    "        "
   ]
  },
  {
   "cell_type": "code",
   "execution_count": 209,
   "metadata": {},
   "outputs": [
    {
     "name": "stderr",
     "output_type": "stream",
     "text": [
      "0% [#####] 100% | ETA: 00:00:00"
     ]
    },
    {
     "name": "stdout",
     "output_type": "stream",
     "text": [
      "136\n"
     ]
    },
    {
     "name": "stderr",
     "output_type": "stream",
     "text": [
      "\n",
      "Total time elapsed: 00:00:00\n",
      "0% [#####] 100% | ETA: 00:00:00\n",
      "Total time elapsed: 00:00:00\n"
     ]
    },
    {
     "name": "stdout",
     "output_type": "stream",
     "text": [
      "136\n"
     ]
    },
    {
     "data": {
      "text/plain": [
       "Text(0.5,0,'frame in trial')"
      ]
     },
     "execution_count": 209,
     "metadata": {},
     "output_type": "execute_result"
    },
    {
     "data": {
      "image/png": "[encoded data removed]",
      "text/plain": [
       "<Figure size 720x360 with 1 Axes>"
      ]
     },
     "metadata": {},
     "output_type": "display_data"
    }
   ],
   "source": [
    "fig = plt.figure(figsize=(10,5))\n",
    "plt.plot(make_decoder2(data,'correct_side'),label='Stimulus')\n",
    "plt.plot(make_decoder2(data,'response_side'),label='Response')\n",
    "plt.plot([40,40],[0.4,0.9],'k--')\n",
    "plt.plot([47,47],[0.4,0.9],'k--')\n",
    "plt.legend()\n",
    "plt.ylabel('accuracy')\n",
    "plt.xlabel('frame in trial')"
   ]
  },
  {
   "cell_type": "code",
   "execution_count": 210,
   "metadata": {},
   "outputs": [],
   "source": [
    "\n",
    "def make_decoder3(data, category_to_decode,time_inds = np.arange(40,60),n_repeats=5):\n",
    "    repeat_data = []\n",
    "    bar = pyprind.ProgBar(n_repeats, track_time=True)\n",
    "    \n",
    "    traces = np.array(data['completed_trials_data']['traces_stim_aligned'])\n",
    "    \n",
    "    # we need to balance our dataset between all the types of stimulii and responses\n",
    "    resp = np.array(data['completed_trials_data']['response_side'])\n",
    "    stim = np.array(data['completed_trials_data']['correct_side'])\n",
    "\n",
    "    # get the labels for the responses and the stimulii\n",
    "    resp_un = np.unique(resp)\n",
    "    stim_un = np.unique(stim)\n",
    "\n",
    "    # make a list of the product of these two vectors\n",
    "    prod = list(itertools.product(resp_un,stim_un))\n",
    "\n",
    "    # number them in a dictionary\n",
    "    prod_dict = dict(zip(prod, range(len(prod))))\n",
    "\n",
    "    # convert the combos to unique numbers\n",
    "    unique_types = [prod_dict[resp[i],stim[i]] for i in range(len(resp))]\n",
    "\n",
    "\n",
    "    \n",
    "    for r in range(n_repeats):\n",
    "        rus = RandomUnderSampler()\n",
    "            # finally, do the undersampling\n",
    "        X = np.array(data['completed_trials_data']['traces_stim_aligned'])[:,:,0]\n",
    "        y = unique_types\n",
    "        X_resampled, y_resampled = rus.fit_resample(X, y)\n",
    "        rus_indices = rus.sample_indices_\n",
    "        #print(len(rus_indices))\n",
    "            \n",
    "        # split data into ten pieces\n",
    "        np.random.shuffle(rus_indices)\n",
    "        split_inds = np.array_split(rus_indices,5)\n",
    "        acc_per_split = []\n",
    "        for i in range(len(split_inds)):\n",
    "            testing_inds = split_inds[i]\n",
    "            training_inds = np.setdiff1d(rus_indices, testing_inds)\n",
    "            \n",
    "            X = traces[:,:,time_inds]\n",
    "            X = X[training_inds,:,:]\n",
    "            X = X.transpose(0,2,1)\n",
    "            X = np.reshape(X,(X.shape[0]*X.shape[1],X.shape[2]))\n",
    "            y = np.array(data['completed_trials_data'][category_to_decode])[training_inds]\n",
    "            y = np.repeat(y,len(time_inds))\n",
    "            model = linear_model.LogisticRegression(penalty='l2',C=1000000000000)\n",
    "            model.fit(X,y)\n",
    "\n",
    "            #print(model.score(X,y))\n",
    "\n",
    "            # Get accuracy at every point in time of the testing data\n",
    "            acc_ = [] # holds accuracy at every ppint in time for a given split\n",
    "            for t in range(traces.shape[2]):\n",
    "                predictions = model.predict(traces[testing_inds,:,t])\n",
    "                y_ = np.array(data['completed_trials_data'][category_to_decode])[testing_inds]\n",
    "                acc_.append(np.mean(predictions == y_))\n",
    "            acc_per_split.append(acc_)    \n",
    "\n",
    "        repeat_data.append(np.mean(acc_per_split,axis=0))\n",
    "        bar.update()\n",
    "    print(len(rus_indices))\n",
    "    return np.mean(repeat_data,axis=0)    \n",
    "        "
   ]
  },
  {
   "cell_type": "code",
   "execution_count": 211,
   "metadata": {},
   "outputs": [
    {
     "name": "stderr",
     "output_type": "stream",
     "text": [
      "0% [#####] 100% | ETA: 00:00:00"
     ]
    },
    {
     "name": "stdout",
     "output_type": "stream",
     "text": [
      "136\n"
     ]
    },
    {
     "name": "stderr",
     "output_type": "stream",
     "text": [
      "\n",
      "Total time elapsed: 00:00:00\n",
      "0% [#####] 100% | ETA: 00:00:00"
     ]
    },
    {
     "name": "stdout",
     "output_type": "stream",
     "text": [
      "136\n"
     ]
    },
    {
     "name": "stderr",
     "output_type": "stream",
     "text": [
      "\n",
      "Total time elapsed: 00:00:00\n"
     ]
    },
    {
     "data": {
      "text/plain": [
       "Text(0.5,0,'frame in trial')"
      ]
     },
     "execution_count": 211,
     "metadata": {},
     "output_type": "execute_result"
    },
    {
     "data": {
      "image/png": "[encoded data removed]",
      "text/plain": [
       "<Figure size 720x360 with 1 Axes>"
      ]
     },
     "metadata": {},
     "output_type": "display_data"
    }
   ],
   "source": [
    "fig = plt.figure(figsize=(10,5))\n",
    "plt.plot(make_decoder2(data,'correct_side'),label='Stimulus')\n",
    "plt.plot(make_decoder2(data,'correct_side'),label='Response')\n",
    "plt.plot([40,40],[0.4,0.9],'k--')\n",
    "plt.plot([47,47],[0.4,0.9],'k--')\n",
    "plt.legend()\n",
    "plt.ylabel('accuracy')\n",
    "plt.xlabel('frame in trial')"
   ]
  },
  {
   "cell_type": "code",
   "execution_count": 212,
   "metadata": {
    "scrolled": true
   },
   "outputs": [],
   "source": [
    "def sub_data(data,percent=1):\n",
    "    n_trials = np.arange(len(data['completed_trials_data']['was_completed']))\n",
    "    np.random.shuffle(n_trials)\n",
    "    trial_i = n_trials[0:int(len(n_trials)*percent)]\n",
    "    data2={}\n",
    "    data2['completed_trials_data']={}\n",
    "    for i in data['completed_trials_data'].keys():\n",
    "        if i!= 'frame_info':\n",
    "            try:\n",
    "                data2['completed_trials_data'][i]=data['completed_trials_data'][i][trial_i]\n",
    "            except:\n",
    "                data2['completed_trials_data'][i]=data['completed_trials_data'][i][trial_i,:,:]\n",
    "    return data2"
   ]
  },
  {
   "cell_type": "code",
   "execution_count": 215,
   "metadata": {
    "scrolled": true
   },
   "outputs": [
    {
     "name": "stdout",
     "output_type": "stream",
     "text": [
      "100\n"
     ]
    },
    {
     "name": "stderr",
     "output_type": "stream",
     "text": [
      "0% [#####] 100% | ETA: 00:00:00"
     ]
    },
    {
     "name": "stdout",
     "output_type": "stream",
     "text": [
      "136\n"
     ]
    },
    {
     "name": "stderr",
     "output_type": "stream",
     "text": [
      "\n",
      "Total time elapsed: 00:00:01\n",
      "0% [#####] 100% | ETA: 00:00:00"
     ]
    },
    {
     "name": "stdout",
     "output_type": "stream",
     "text": [
      "136\n"
     ]
    },
    {
     "name": "stderr",
     "output_type": "stream",
     "text": [
      "\n",
      "Total time elapsed: 00:00:01\n",
      "0% [#####] 100% | ETA: 00:00:00"
     ]
    },
    {
     "name": "stdout",
     "output_type": "stream",
     "text": [
      "136\n"
     ]
    },
    {
     "name": "stderr",
     "output_type": "stream",
     "text": [
      "\n",
      "Total time elapsed: 00:00:01\n",
      "0% [#####] 100% | ETA: 00:00:00"
     ]
    },
    {
     "name": "stdout",
     "output_type": "stream",
     "text": [
      "136\n"
     ]
    },
    {
     "name": "stderr",
     "output_type": "stream",
     "text": [
      "\n",
      "Total time elapsed: 00:00:01\n",
      "0% [#####] 100% | ETA: 00:00:00"
     ]
    },
    {
     "name": "stdout",
     "output_type": "stream",
     "text": [
      "136\n",
      "75\n"
     ]
    },
    {
     "name": "stderr",
     "output_type": "stream",
     "text": [
      "\n",
      "Total time elapsed: 00:00:01\n",
      "0% [#####] 100% | ETA: 00:00:00"
     ]
    },
    {
     "name": "stdout",
     "output_type": "stream",
     "text": [
      "104\n"
     ]
    },
    {
     "name": "stderr",
     "output_type": "stream",
     "text": [
      "\n",
      "Total time elapsed: 00:00:01\n",
      "0% [#####] 100% | ETA: 00:00:00"
     ]
    },
    {
     "name": "stdout",
     "output_type": "stream",
     "text": [
      "100\n"
     ]
    },
    {
     "name": "stderr",
     "output_type": "stream",
     "text": [
      "\n",
      "Total time elapsed: 00:00:01\n",
      "0% [#####] 100% | ETA: 00:00:00"
     ]
    },
    {
     "name": "stdout",
     "output_type": "stream",
     "text": [
      "96\n"
     ]
    },
    {
     "name": "stderr",
     "output_type": "stream",
     "text": [
      "\n",
      "Total time elapsed: 00:00:01\n",
      "0% [#####] 100% | ETA: 00:00:00"
     ]
    },
    {
     "name": "stdout",
     "output_type": "stream",
     "text": [
      "96\n"
     ]
    },
    {
     "name": "stderr",
     "output_type": "stream",
     "text": [
      "\n",
      "Total time elapsed: 00:00:01\n",
      "0% [#####] 100% | ETA: 00:00:00"
     ]
    },
    {
     "name": "stdout",
     "output_type": "stream",
     "text": [
      "104\n"
     ]
    },
    {
     "name": "stderr",
     "output_type": "stream",
     "text": [
      "\n",
      "Total time elapsed: 00:00:01\n",
      "0% [#####] 100% | ETA: 00:00:00\n",
      "Total time elapsed: 00:00:00\n"
     ]
    },
    {
     "name": "stdout",
     "output_type": "stream",
     "text": [
      "56\n"
     ]
    },
    {
     "name": "stderr",
     "output_type": "stream",
     "text": [
      "0% [#####] 100% | ETA: 00:00:00"
     ]
    },
    {
     "name": "stdout",
     "output_type": "stream",
     "text": [
      "60\n"
     ]
    },
    {
     "name": "stderr",
     "output_type": "stream",
     "text": [
      "\n",
      "Total time elapsed: 00:00:00\n",
      "0% [#####] 100% | ETA: 00:00:00"
     ]
    },
    {
     "name": "stdout",
     "output_type": "stream",
     "text": [
      "48\n"
     ]
    },
    {
     "name": "stderr",
     "output_type": "stream",
     "text": [
      "\n",
      "Total time elapsed: 00:00:00\n",
      "0% [#####] 100% | ETA: 00:00:00\n",
      "Total time elapsed: 00:00:00\n"
     ]
    },
    {
     "name": "stdout",
     "output_type": "stream",
     "text": [
      "76\n"
     ]
    },
    {
     "name": "stderr",
     "output_type": "stream",
     "text": [
      "0% [#####] 100% | ETA: 00:00:00"
     ]
    },
    {
     "name": "stdout",
     "output_type": "stream",
     "text": [
      "68\n"
     ]
    },
    {
     "name": "stderr",
     "output_type": "stream",
     "text": [
      "\n",
      "Total time elapsed: 00:00:00\n",
      "0% [#####] 100% | ETA: 00:00:00"
     ]
    },
    {
     "name": "stdout",
     "output_type": "stream",
     "text": [
      "56\n"
     ]
    },
    {
     "name": "stderr",
     "output_type": "stream",
     "text": [
      "\n",
      "Total time elapsed: 00:00:00\n",
      "0% [#####] 100% | ETA: 00:00:00"
     ]
    },
    {
     "name": "stdout",
     "output_type": "stream",
     "text": [
      "72\n"
     ]
    },
    {
     "name": "stderr",
     "output_type": "stream",
     "text": [
      "\n",
      "Total time elapsed: 00:00:00\n",
      "0% [#####] 100% | ETA: 00:00:00"
     ]
    },
    {
     "name": "stdout",
     "output_type": "stream",
     "text": [
      "52\n"
     ]
    },
    {
     "name": "stderr",
     "output_type": "stream",
     "text": [
      "\n",
      "Total time elapsed: 00:00:00\n",
      "0% [#####] 100% | ETA: 00:00:00"
     ]
    },
    {
     "name": "stdout",
     "output_type": "stream",
     "text": [
      "64\n"
     ]
    },
    {
     "name": "stderr",
     "output_type": "stream",
     "text": [
      "\n",
      "Total time elapsed: 00:00:00\n",
      "0% [#####] 100% | ETA: 00:00:00\n",
      "Total time elapsed: 00:00:00\n"
     ]
    },
    {
     "name": "stdout",
     "output_type": "stream",
     "text": [
      "64\n",
      "40\n"
     ]
    },
    {
     "name": "stderr",
     "output_type": "stream",
     "text": [
      "0% [#####] 100% | ETA: 00:00:00"
     ]
    },
    {
     "name": "stdout",
     "output_type": "stream",
     "text": [
      "56\n"
     ]
    },
    {
     "name": "stderr",
     "output_type": "stream",
     "text": [
      "\n",
      "Total time elapsed: 00:00:00\n",
      "0% [#####] 100% | ETA: 00:00:00"
     ]
    },
    {
     "name": "stdout",
     "output_type": "stream",
     "text": [
      "52\n"
     ]
    },
    {
     "name": "stderr",
     "output_type": "stream",
     "text": [
      "\n",
      "Total time elapsed: 00:00:00\n",
      "0% [#####] 100% | ETA: 00:00:00"
     ]
    },
    {
     "name": "stdout",
     "output_type": "stream",
     "text": [
      "52\n"
     ]
    },
    {
     "name": "stderr",
     "output_type": "stream",
     "text": [
      "\n",
      "Total time elapsed: 00:00:00\n",
      "0% [#####] 100% | ETA: 00:00:00"
     ]
    },
    {
     "name": "stdout",
     "output_type": "stream",
     "text": [
      "48\n"
     ]
    },
    {
     "name": "stderr",
     "output_type": "stream",
     "text": [
      "\n",
      "Total time elapsed: 00:00:00\n",
      "0% [#####] 100% | ETA: 00:00:00"
     ]
    },
    {
     "name": "stdout",
     "output_type": "stream",
     "text": [
      "52\n"
     ]
    },
    {
     "name": "stderr",
     "output_type": "stream",
     "text": [
      "\n",
      "Total time elapsed: 00:00:00\n",
      "0% [#####] 100% | ETA: 00:00:00"
     ]
    },
    {
     "name": "stdout",
     "output_type": "stream",
     "text": [
      "56\n"
     ]
    },
    {
     "name": "stderr",
     "output_type": "stream",
     "text": [
      "\n",
      "Total time elapsed: 00:00:00\n",
      "0% [#####] 100% | ETA: 00:00:00"
     ]
    },
    {
     "name": "stdout",
     "output_type": "stream",
     "text": [
      "52\n"
     ]
    },
    {
     "name": "stderr",
     "output_type": "stream",
     "text": [
      "\n",
      "Total time elapsed: 00:00:00\n",
      "0% [#####] 100% | ETA: 00:00:00"
     ]
    },
    {
     "name": "stdout",
     "output_type": "stream",
     "text": [
      "40\n"
     ]
    },
    {
     "name": "stderr",
     "output_type": "stream",
     "text": [
      "\n",
      "Total time elapsed: 00:00:00\n",
      "0% [#####] 100% | ETA: 00:00:00"
     ]
    },
    {
     "name": "stdout",
     "output_type": "stream",
     "text": [
      "40\n"
     ]
    },
    {
     "name": "stderr",
     "output_type": "stream",
     "text": [
      "\n",
      "Total time elapsed: 00:00:00\n",
      "0% [#####] 100% | ETA: 00:00:00"
     ]
    },
    {
     "name": "stdout",
     "output_type": "stream",
     "text": [
      "44\n",
      "30\n"
     ]
    },
    {
     "name": "stderr",
     "output_type": "stream",
     "text": [
      "\n",
      "Total time elapsed: 00:00:00\n",
      "0% [#####] 100% | ETA: 00:00:00"
     ]
    },
    {
     "name": "stdout",
     "output_type": "stream",
     "text": [
      "32\n"
     ]
    },
    {
     "name": "stderr",
     "output_type": "stream",
     "text": [
      "\n",
      "Total time elapsed: 00:00:00\n",
      "0% [#####] 100% | ETA: 00:00:00"
     ]
    },
    {
     "name": "stdout",
     "output_type": "stream",
     "text": [
      "36\n"
     ]
    },
    {
     "name": "stderr",
     "output_type": "stream",
     "text": [
      "\n",
      "Total time elapsed: 00:00:00\n",
      "0% [#####] 100% | ETA: 00:00:00"
     ]
    },
    {
     "name": "stdout",
     "output_type": "stream",
     "text": [
      "44\n"
     ]
    },
    {
     "name": "stderr",
     "output_type": "stream",
     "text": [
      "\n",
      "Total time elapsed: 00:00:00\n",
      "0% [#####] 100% | ETA: 00:00:00"
     ]
    },
    {
     "name": "stdout",
     "output_type": "stream",
     "text": [
      "32\n"
     ]
    },
    {
     "name": "stderr",
     "output_type": "stream",
     "text": [
      "\n",
      "Total time elapsed: 00:00:00\n",
      "0% [#####] 100% | ETA: 00:00:00"
     ]
    },
    {
     "name": "stdout",
     "output_type": "stream",
     "text": [
      "28\n"
     ]
    },
    {
     "name": "stderr",
     "output_type": "stream",
     "text": [
      "\n",
      "Total time elapsed: 00:00:00\n",
      "0% [#####] 100% | ETA: 00:00:00"
     ]
    },
    {
     "name": "stdout",
     "output_type": "stream",
     "text": [
      "28\n"
     ]
    },
    {
     "name": "stderr",
     "output_type": "stream",
     "text": [
      "\n",
      "Total time elapsed: 00:00:00\n",
      "0% [#####] 100% | ETA: 00:00:00"
     ]
    },
    {
     "name": "stdout",
     "output_type": "stream",
     "text": [
      "32\n"
     ]
    },
    {
     "name": "stderr",
     "output_type": "stream",
     "text": [
      "\n",
      "Total time elapsed: 00:00:00\n",
      "0% [#####] 100% | ETA: 00:00:00"
     ]
    },
    {
     "name": "stdout",
     "output_type": "stream",
     "text": [
      "28\n"
     ]
    },
    {
     "name": "stderr",
     "output_type": "stream",
     "text": [
      "\n",
      "Total time elapsed: 00:00:00\n",
      "0% [#####] 100% | ETA: 00:00:00"
     ]
    },
    {
     "name": "stdout",
     "output_type": "stream",
     "text": [
      "40\n"
     ]
    },
    {
     "name": "stderr",
     "output_type": "stream",
     "text": [
      "\n",
      "Total time elapsed: 00:00:00\n",
      "0% [#####] 100% | ETA: 00:00:00"
     ]
    },
    {
     "name": "stdout",
     "output_type": "stream",
     "text": [
      "40\n"
     ]
    },
    {
     "name": "stderr",
     "output_type": "stream",
     "text": [
      "\n",
      "Total time elapsed: 00:00:00\n",
      "0% [#####] 100% | ETA: 00:00:00"
     ]
    },
    {
     "name": "stdout",
     "output_type": "stream",
     "text": [
      "36\n"
     ]
    },
    {
     "name": "stderr",
     "output_type": "stream",
     "text": [
      "\n",
      "Total time elapsed: 00:00:00\n",
      "0% [#####] 100% | ETA: 00:00:00"
     ]
    },
    {
     "name": "stdout",
     "output_type": "stream",
     "text": [
      "20\n"
     ]
    },
    {
     "name": "stderr",
     "output_type": "stream",
     "text": [
      "\n",
      "Total time elapsed: 00:00:00\n",
      "0% [#####] 100% | ETA: 00:00:00"
     ]
    },
    {
     "name": "stdout",
     "output_type": "stream",
     "text": [
      "40\n"
     ]
    },
    {
     "name": "stderr",
     "output_type": "stream",
     "text": [
      "\n",
      "Total time elapsed: 00:00:00\n",
      "0% [#####] 100% | ETA: 00:00:00"
     ]
    },
    {
     "name": "stdout",
     "output_type": "stream",
     "text": [
      "36\n"
     ]
    },
    {
     "name": "stderr",
     "output_type": "stream",
     "text": [
      "\n",
      "Total time elapsed: 00:00:00\n",
      "0% [#####] 100% | ETA: 00:00:00"
     ]
    },
    {
     "name": "stdout",
     "output_type": "stream",
     "text": [
      "44\n",
      "15\n"
     ]
    },
    {
     "name": "stderr",
     "output_type": "stream",
     "text": [
      "\n",
      "Total time elapsed: 00:00:00\n",
      "0% [#####] 100% | ETA: 00:00:00"
     ]
    },
    {
     "name": "stdout",
     "output_type": "stream",
     "text": [
      "20\n"
     ]
    },
    {
     "name": "stderr",
     "output_type": "stream",
     "text": [
      "\n",
      "Total time elapsed: 00:00:00\n",
      "0% [#####] 100% | ETA: 00:00:00"
     ]
    },
    {
     "name": "stdout",
     "output_type": "stream",
     "text": [
      "8\n"
     ]
    },
    {
     "name": "stderr",
     "output_type": "stream",
     "text": [
      "\n",
      "Total time elapsed: 00:00:00\n",
      "0% [#####] 100% | ETA: 00:00:00"
     ]
    },
    {
     "name": "stdout",
     "output_type": "stream",
     "text": [
      "20\n"
     ]
    },
    {
     "name": "stderr",
     "output_type": "stream",
     "text": [
      "\n",
      "Total time elapsed: 00:00:00\n",
      "0% [#####] 100% | ETA: 00:00:00"
     ]
    },
    {
     "name": "stdout",
     "output_type": "stream",
     "text": [
      "8\n"
     ]
    },
    {
     "name": "stderr",
     "output_type": "stream",
     "text": [
      "\n",
      "Total time elapsed: 00:00:00\n",
      "0% [#####] 100% | ETA: 00:00:00"
     ]
    },
    {
     "name": "stdout",
     "output_type": "stream",
     "text": [
      "12\n"
     ]
    },
    {
     "name": "stderr",
     "output_type": "stream",
     "text": [
      "\n",
      "Total time elapsed: 00:00:00\n",
      "0% [#####] 100% | ETA: 00:00:00"
     ]
    },
    {
     "name": "stdout",
     "output_type": "stream",
     "text": [
      "12\n"
     ]
    },
    {
     "name": "stderr",
     "output_type": "stream",
     "text": [
      "\n",
      "Total time elapsed: 00:00:00\n",
      "0% [#####] 100% | ETA: 00:00:00"
     ]
    },
    {
     "name": "stdout",
     "output_type": "stream",
     "text": [
      "12\n"
     ]
    },
    {
     "name": "stderr",
     "output_type": "stream",
     "text": [
      "\n",
      "Total time elapsed: 00:00:00\n",
      "0% [#####] 100% | ETA: 00:00:00\n",
      "Total time elapsed: 00:00:00\n"
     ]
    },
    {
     "name": "stdout",
     "output_type": "stream",
     "text": [
      "8\n"
     ]
    },
    {
     "name": "stderr",
     "output_type": "stream",
     "text": [
      "0% [#####] 100% | ETA: 00:00:00"
     ]
    },
    {
     "name": "stdout",
     "output_type": "stream",
     "text": [
      "8\n"
     ]
    },
    {
     "name": "stderr",
     "output_type": "stream",
     "text": [
      "\n",
      "Total time elapsed: 00:00:00\n",
      "0% [#####] 100% | ETA: 00:00:00"
     ]
    },
    {
     "name": "stdout",
     "output_type": "stream",
     "text": [
      "20\n"
     ]
    },
    {
     "name": "stderr",
     "output_type": "stream",
     "text": [
      "\n",
      "Total time elapsed: 00:00:00\n",
      "0% [#####] 100% | ETA: 00:00:00"
     ]
    },
    {
     "name": "stdout",
     "output_type": "stream",
     "text": [
      "16\n"
     ]
    },
    {
     "name": "stderr",
     "output_type": "stream",
     "text": [
      "\n",
      "Total time elapsed: 00:00:00\n",
      "0% [#####] 100% | ETA: 00:00:00"
     ]
    },
    {
     "name": "stdout",
     "output_type": "stream",
     "text": [
      "16\n"
     ]
    },
    {
     "name": "stderr",
     "output_type": "stream",
     "text": [
      "\n",
      "Total time elapsed: 00:00:00\n",
      "0% [#####] 100% | ETA: 00:00:00"
     ]
    },
    {
     "name": "stdout",
     "output_type": "stream",
     "text": [
      "20\n"
     ]
    },
    {
     "name": "stderr",
     "output_type": "stream",
     "text": [
      "\n",
      "Total time elapsed: 00:00:00\n",
      "0% [#####] 100% | ETA: 00:00:00"
     ]
    },
    {
     "name": "stdout",
     "output_type": "stream",
     "text": [
      "16\n"
     ]
    },
    {
     "name": "stderr",
     "output_type": "stream",
     "text": [
      "\n",
      "Total time elapsed: 00:00:00\n",
      "0% [#####] 100% | ETA: 00:00:00"
     ]
    },
    {
     "name": "stdout",
     "output_type": "stream",
     "text": [
      "12\n"
     ]
    },
    {
     "name": "stderr",
     "output_type": "stream",
     "text": [
      "\n",
      "Total time elapsed: 00:00:00\n",
      "0% [#####] 100% | ETA: 00:00:00"
     ]
    },
    {
     "name": "stdout",
     "output_type": "stream",
     "text": [
      "12\n"
     ]
    },
    {
     "name": "stderr",
     "output_type": "stream",
     "text": [
      "\n",
      "Total time elapsed: 00:00:00\n",
      "0% [#####] 100% | ETA: 00:00:00"
     ]
    },
    {
     "name": "stdout",
     "output_type": "stream",
     "text": [
      "16\n"
     ]
    },
    {
     "name": "stderr",
     "output_type": "stream",
     "text": [
      "\n",
      "Total time elapsed: 00:00:00\n",
      "0% [#####] 100% | ETA: 00:00:00"
     ]
    },
    {
     "name": "stdout",
     "output_type": "stream",
     "text": [
      "12\n"
     ]
    },
    {
     "name": "stderr",
     "output_type": "stream",
     "text": [
      "\n",
      "Total time elapsed: 00:00:00\n",
      "0% [#####] 100% | ETA: 00:00:00\n",
      "Total time elapsed: 00:00:00\n"
     ]
    },
    {
     "name": "stdout",
     "output_type": "stream",
     "text": [
      "8\n"
     ]
    },
    {
     "name": "stderr",
     "output_type": "stream",
     "text": [
      "0% [#####] 100% | ETA: 00:00:00"
     ]
    },
    {
     "name": "stdout",
     "output_type": "stream",
     "text": [
      "8\n"
     ]
    },
    {
     "name": "stderr",
     "output_type": "stream",
     "text": [
      "\n",
      "Total time elapsed: 00:00:00\n",
      "0% [#####] 100% | ETA: 00:00:00"
     ]
    },
    {
     "name": "stdout",
     "output_type": "stream",
     "text": [
      "8\n"
     ]
    },
    {
     "name": "stderr",
     "output_type": "stream",
     "text": [
      "\n",
      "Total time elapsed: 00:00:00\n",
      "0% [#####] 100% | ETA: 00:00:00"
     ]
    },
    {
     "name": "stdout",
     "output_type": "stream",
     "text": [
      "8\n"
     ]
    },
    {
     "name": "stderr",
     "output_type": "stream",
     "text": [
      "\n",
      "Total time elapsed: 00:00:00\n",
      "0% [#####] 100% | ETA: 00:00:00"
     ]
    },
    {
     "name": "stdout",
     "output_type": "stream",
     "text": [
      "20\n"
     ]
    },
    {
     "name": "stderr",
     "output_type": "stream",
     "text": [
      "\n",
      "Total time elapsed: 00:00:00\n",
      "0% [#####] 100% | ETA: 00:00:00"
     ]
    },
    {
     "name": "stdout",
     "output_type": "stream",
     "text": [
      "8\n"
     ]
    },
    {
     "name": "stderr",
     "output_type": "stream",
     "text": [
      "\n",
      "Total time elapsed: 00:00:00\n",
      "0% [#####] 100% | ETA: 00:00:00"
     ]
    },
    {
     "name": "stdout",
     "output_type": "stream",
     "text": [
      "16\n"
     ]
    },
    {
     "name": "stderr",
     "output_type": "stream",
     "text": [
      "\n",
      "Total time elapsed: 00:00:00\n",
      "0% [#####] 100% | ETA: 00:00:00"
     ]
    },
    {
     "name": "stdout",
     "output_type": "stream",
     "text": [
      "16\n"
     ]
    },
    {
     "name": "stderr",
     "output_type": "stream",
     "text": [
      "\n",
      "Total time elapsed: 00:00:00\n",
      "0% [#####] 100% | ETA: 00:00:00"
     ]
    },
    {
     "name": "stdout",
     "output_type": "stream",
     "text": [
      "12\n"
     ]
    },
    {
     "name": "stderr",
     "output_type": "stream",
     "text": [
      "\n",
      "Total time elapsed: 00:00:00\n",
      "0% [#####] 100% | ETA: 00:00:00"
     ]
    },
    {
     "name": "stdout",
     "output_type": "stream",
     "text": [
      "12\n"
     ]
    },
    {
     "name": "stderr",
     "output_type": "stream",
     "text": [
      "\n",
      "Total time elapsed: 00:00:00\n",
      "0% [#####] 100% | ETA: 00:00:00"
     ]
    },
    {
     "name": "stdout",
     "output_type": "stream",
     "text": [
      "16\n"
     ]
    },
    {
     "name": "stderr",
     "output_type": "stream",
     "text": [
      "\n",
      "Total time elapsed: 00:00:00\n",
      "0% [#####] 100% | ETA: 00:00:00"
     ]
    },
    {
     "name": "stdout",
     "output_type": "stream",
     "text": [
      "24\n"
     ]
    },
    {
     "name": "stderr",
     "output_type": "stream",
     "text": [
      "\n",
      "Total time elapsed: 00:00:00\n",
      "0% [#####] 100% | ETA: 00:00:00"
     ]
    },
    {
     "name": "stdout",
     "output_type": "stream",
     "text": [
      "12\n"
     ]
    },
    {
     "name": "stderr",
     "output_type": "stream",
     "text": [
      "\n",
      "Total time elapsed: 00:00:00\n",
      "0% [#####] 100% | ETA: 00:00:00"
     ]
    },
    {
     "name": "stdout",
     "output_type": "stream",
     "text": [
      "12\n"
     ]
    },
    {
     "name": "stderr",
     "output_type": "stream",
     "text": [
      "\n",
      "Total time elapsed: 00:00:00\n",
      "0% [#####] 100% | ETA: 00:00:00"
     ]
    },
    {
     "name": "stdout",
     "output_type": "stream",
     "text": [
      "8\n"
     ]
    },
    {
     "name": "stderr",
     "output_type": "stream",
     "text": [
      "\n",
      "Total time elapsed: 00:00:00\n",
      "0% [#####] 100% | ETA: 00:00:00"
     ]
    },
    {
     "name": "stdout",
     "output_type": "stream",
     "text": [
      "8\n"
     ]
    },
    {
     "name": "stderr",
     "output_type": "stream",
     "text": [
      "\n",
      "Total time elapsed: 00:00:00\n",
      "0% [#####] 100% | ETA: 00:00:00"
     ]
    },
    {
     "name": "stdout",
     "output_type": "stream",
     "text": [
      "12\n"
     ]
    },
    {
     "name": "stderr",
     "output_type": "stream",
     "text": [
      "\n",
      "Total time elapsed: 00:00:00\n",
      "0% [#####] 100% | ETA: 00:00:00"
     ]
    },
    {
     "name": "stdout",
     "output_type": "stream",
     "text": [
      "8\n"
     ]
    },
    {
     "name": "stderr",
     "output_type": "stream",
     "text": [
      "\n",
      "Total time elapsed: 00:00:00\n",
      "0% [#####] 100% | ETA: 00:00:00\n",
      "Total time elapsed: 00:00:00\n"
     ]
    },
    {
     "name": "stdout",
     "output_type": "stream",
     "text": [
      "8\n"
     ]
    },
    {
     "name": "stderr",
     "output_type": "stream",
     "text": [
      "0% [#####] 100% | ETA: 00:00:00\n",
      "Total time elapsed: 00:00:00\n"
     ]
    },
    {
     "name": "stdout",
     "output_type": "stream",
     "text": [
      "8\n"
     ]
    },
    {
     "name": "stderr",
     "output_type": "stream",
     "text": [
      "0% [#####] 100% | ETA: 00:00:00"
     ]
    },
    {
     "name": "stdout",
     "output_type": "stream",
     "text": [
      "16\n"
     ]
    },
    {
     "name": "stderr",
     "output_type": "stream",
     "text": [
      "\n",
      "Total time elapsed: 00:00:00\n",
      "0% [#####] 100% | ETA: 00:00:00"
     ]
    },
    {
     "name": "stdout",
     "output_type": "stream",
     "text": [
      "8\n"
     ]
    },
    {
     "name": "stderr",
     "output_type": "stream",
     "text": [
      "\n",
      "Total time elapsed: 00:00:00\n",
      "0% [#####] 100% | ETA: 00:00:00"
     ]
    },
    {
     "name": "stdout",
     "output_type": "stream",
     "text": [
      "12\n"
     ]
    },
    {
     "name": "stderr",
     "output_type": "stream",
     "text": [
      "\n",
      "Total time elapsed: 00:00:00\n",
      "0% [#####] 100% | ETA: 00:00:00"
     ]
    },
    {
     "name": "stdout",
     "output_type": "stream",
     "text": [
      "12\n"
     ]
    },
    {
     "name": "stderr",
     "output_type": "stream",
     "text": [
      "\n",
      "Total time elapsed: 00:00:00\n",
      "0% [#####] 100% | ETA: 00:00:00"
     ]
    },
    {
     "name": "stdout",
     "output_type": "stream",
     "text": [
      "12\n"
     ]
    },
    {
     "name": "stderr",
     "output_type": "stream",
     "text": [
      "\n",
      "Total time elapsed: 00:00:00\n",
      "0% [#####] 100% | ETA: 00:00:00"
     ]
    },
    {
     "name": "stdout",
     "output_type": "stream",
     "text": [
      "8\n"
     ]
    },
    {
     "name": "stderr",
     "output_type": "stream",
     "text": [
      "\n",
      "Total time elapsed: 00:00:00\n",
      "0% [#####] 100% | ETA: 00:00:00"
     ]
    },
    {
     "name": "stdout",
     "output_type": "stream",
     "text": [
      "12\n"
     ]
    },
    {
     "name": "stderr",
     "output_type": "stream",
     "text": [
      "\n",
      "Total time elapsed: 00:00:00\n",
      "0% [#####] 100% | ETA: 00:00:00"
     ]
    },
    {
     "name": "stdout",
     "output_type": "stream",
     "text": [
      "8\n"
     ]
    },
    {
     "name": "stderr",
     "output_type": "stream",
     "text": [
      "\n",
      "Total time elapsed: 00:00:00\n",
      "0% [#####] 100% | ETA: 00:00:00\n",
      "Total time elapsed: 00:00:00\n"
     ]
    },
    {
     "name": "stdout",
     "output_type": "stream",
     "text": [
      "8\n"
     ]
    },
    {
     "name": "stderr",
     "output_type": "stream",
     "text": [
      "0% [#####] 100% | ETA: 00:00:00"
     ]
    },
    {
     "name": "stdout",
     "output_type": "stream",
     "text": [
      "8\n"
     ]
    },
    {
     "name": "stderr",
     "output_type": "stream",
     "text": [
      "\n",
      "Total time elapsed: 00:00:00\n",
      "0% [#####] 100% | ETA: 00:00:00"
     ]
    },
    {
     "name": "stdout",
     "output_type": "stream",
     "text": [
      "12\n"
     ]
    },
    {
     "name": "stderr",
     "output_type": "stream",
     "text": [
      "\n",
      "Total time elapsed: 00:00:00\n",
      "0% [#####] 100% | ETA: 00:00:00"
     ]
    },
    {
     "name": "stdout",
     "output_type": "stream",
     "text": [
      "8\n"
     ]
    },
    {
     "name": "stderr",
     "output_type": "stream",
     "text": [
      "\n",
      "Total time elapsed: 00:00:00\n",
      "0% [#####] 100% | ETA: 00:00:00"
     ]
    },
    {
     "name": "stdout",
     "output_type": "stream",
     "text": [
      "15\n"
     ]
    },
    {
     "name": "stderr",
     "output_type": "stream",
     "text": [
      "\n",
      "Total time elapsed: 00:00:00\n",
      "0% [#####] 100% | ETA: 00:00:00"
     ]
    },
    {
     "name": "stdout",
     "output_type": "stream",
     "text": [
      "8\n"
     ]
    },
    {
     "name": "stderr",
     "output_type": "stream",
     "text": [
      "\n",
      "Total time elapsed: 00:00:00\n",
      "0% [#####] 100% | ETA: 00:00:00"
     ]
    },
    {
     "name": "stdout",
     "output_type": "stream",
     "text": [
      "8\n"
     ]
    },
    {
     "name": "stderr",
     "output_type": "stream",
     "text": [
      "\n",
      "Total time elapsed: 00:00:00\n",
      "0% [#####] 100% | ETA: 00:00:00\n",
      "Total time elapsed: 00:00:00\n"
     ]
    },
    {
     "name": "stdout",
     "output_type": "stream",
     "text": [
      "12\n"
     ]
    },
    {
     "name": "stderr",
     "output_type": "stream",
     "text": [
      "0% [#####] 100% | ETA: 00:00:00\n",
      "Total time elapsed: 00:00:00\n"
     ]
    },
    {
     "name": "stdout",
     "output_type": "stream",
     "text": [
      "8\n"
     ]
    },
    {
     "name": "stderr",
     "output_type": "stream",
     "text": [
      "0% [#####] 100% | ETA: 00:00:00"
     ]
    },
    {
     "name": "stdout",
     "output_type": "stream",
     "text": [
      "12\n"
     ]
    },
    {
     "name": "stderr",
     "output_type": "stream",
     "text": [
      "\n",
      "Total time elapsed: 00:00:00\n",
      "0% [#####] 100% | ETA: 00:00:00"
     ]
    },
    {
     "name": "stdout",
     "output_type": "stream",
     "text": [
      "8\n"
     ]
    },
    {
     "name": "stderr",
     "output_type": "stream",
     "text": [
      "\n",
      "Total time elapsed: 00:00:00\n",
      "0% [#####] 100% | ETA: 00:00:00"
     ]
    },
    {
     "name": "stdout",
     "output_type": "stream",
     "text": [
      "8\n"
     ]
    },
    {
     "name": "stderr",
     "output_type": "stream",
     "text": [
      "\n",
      "Total time elapsed: 00:00:00\n",
      "0% [#####] 100% | ETA: 00:00:00"
     ]
    },
    {
     "name": "stdout",
     "output_type": "stream",
     "text": [
      "8\n"
     ]
    },
    {
     "name": "stderr",
     "output_type": "stream",
     "text": [
      "\n",
      "Total time elapsed: 00:00:00\n",
      "0% [#####] 100% | ETA: 00:00:00"
     ]
    },
    {
     "name": "stdout",
     "output_type": "stream",
     "text": [
      "8\n"
     ]
    },
    {
     "name": "stderr",
     "output_type": "stream",
     "text": [
      "\n",
      "Total time elapsed: 00:00:00\n",
      "0% [#####] 100% | ETA: 00:00:00"
     ]
    },
    {
     "name": "stdout",
     "output_type": "stream",
     "text": [
      "12\n"
     ]
    },
    {
     "name": "stderr",
     "output_type": "stream",
     "text": [
      "\n",
      "Total time elapsed: 00:00:00\n",
      "0% [#####] 100% | ETA: 00:00:00"
     ]
    },
    {
     "name": "stdout",
     "output_type": "stream",
     "text": [
      "12\n"
     ]
    },
    {
     "name": "stderr",
     "output_type": "stream",
     "text": [
      "\n",
      "Total time elapsed: 00:00:00\n",
      "0% [#####] 100% | ETA: 00:00:00\n",
      "Total time elapsed: 00:00:00\n"
     ]
    },
    {
     "name": "stdout",
     "output_type": "stream",
     "text": [
      "8\n"
     ]
    },
    {
     "name": "stderr",
     "output_type": "stream",
     "text": [
      "0% [#####] 100% | ETA: 00:00:00\n",
      "Total time elapsed: 00:00:00\n"
     ]
    },
    {
     "name": "stdout",
     "output_type": "stream",
     "text": [
      "8\n"
     ]
    },
    {
     "name": "stderr",
     "output_type": "stream",
     "text": [
      "0% [#####] 100% | ETA: 00:00:00"
     ]
    },
    {
     "name": "stdout",
     "output_type": "stream",
     "text": [
      "8\n"
     ]
    },
    {
     "name": "stderr",
     "output_type": "stream",
     "text": [
      "\n",
      "Total time elapsed: 00:00:00\n",
      "0% [#####] 100% | ETA: 00:00:00"
     ]
    },
    {
     "name": "stdout",
     "output_type": "stream",
     "text": [
      "8\n"
     ]
    },
    {
     "name": "stderr",
     "output_type": "stream",
     "text": [
      "\n",
      "Total time elapsed: 00:00:00\n",
      "0% [#####] 100% | ETA: 00:00:00"
     ]
    },
    {
     "name": "stdout",
     "output_type": "stream",
     "text": [
      "12\n"
     ]
    },
    {
     "name": "stderr",
     "output_type": "stream",
     "text": [
      "\n",
      "Total time elapsed: 00:00:00\n",
      "0% [#####] 100% | ETA: 00:00:00"
     ]
    },
    {
     "name": "stdout",
     "output_type": "stream",
     "text": [
      "8\n"
     ]
    },
    {
     "name": "stderr",
     "output_type": "stream",
     "text": [
      "\n",
      "Total time elapsed: 00:00:00\n",
      "0% [#####] 100% | ETA: 00:00:00"
     ]
    },
    {
     "name": "stdout",
     "output_type": "stream",
     "text": [
      "8\n"
     ]
    },
    {
     "name": "stderr",
     "output_type": "stream",
     "text": [
      "\n",
      "Total time elapsed: 00:00:00\n",
      "0% [#####] 100% | ETA: 00:00:00"
     ]
    },
    {
     "name": "stdout",
     "output_type": "stream",
     "text": [
      "8\n"
     ]
    },
    {
     "name": "stderr",
     "output_type": "stream",
     "text": [
      "\n",
      "Total time elapsed: 00:00:00\n",
      "0% [#####] 100% | ETA: 00:00:00"
     ]
    },
    {
     "name": "stdout",
     "output_type": "stream",
     "text": [
      "12\n"
     ]
    },
    {
     "name": "stderr",
     "output_type": "stream",
     "text": [
      "\n",
      "Total time elapsed: 00:00:00\n",
      "0% [#####] 100% | ETA: 00:00:00"
     ]
    },
    {
     "name": "stdout",
     "output_type": "stream",
     "text": [
      "8\n"
     ]
    },
    {
     "name": "stderr",
     "output_type": "stream",
     "text": [
      "\n",
      "Total time elapsed: 00:00:00\n",
      "0% [#####] 100% | ETA: 00:00:00"
     ]
    },
    {
     "name": "stdout",
     "output_type": "stream",
     "text": [
      "12\n"
     ]
    },
    {
     "name": "stderr",
     "output_type": "stream",
     "text": [
      "\n",
      "Total time elapsed: 00:00:00\n",
      "0% [#####] 100% | ETA: 00:00:00"
     ]
    },
    {
     "name": "stdout",
     "output_type": "stream",
     "text": [
      "12\n"
     ]
    },
    {
     "name": "stderr",
     "output_type": "stream",
     "text": [
      "\n",
      "Total time elapsed: 00:00:00\n",
      "0% [#####] 100% | ETA: 00:00:00"
     ]
    },
    {
     "name": "stdout",
     "output_type": "stream",
     "text": [
      "8\n"
     ]
    },
    {
     "name": "stderr",
     "output_type": "stream",
     "text": [
      "\n",
      "Total time elapsed: 00:00:00\n",
      "0% [#####] 100% | ETA: 00:00:00"
     ]
    },
    {
     "name": "stdout",
     "output_type": "stream",
     "text": [
      "12\n"
     ]
    },
    {
     "name": "stderr",
     "output_type": "stream",
     "text": [
      "\n",
      "Total time elapsed: 00:00:00\n",
      "0% [#####] 100% | ETA: 00:00:00"
     ]
    },
    {
     "name": "stdout",
     "output_type": "stream",
     "text": [
      "12\n"
     ]
    },
    {
     "name": "stderr",
     "output_type": "stream",
     "text": [
      "\n",
      "Total time elapsed: 00:00:00\n",
      "0% [#####] 100% | ETA: 00:00:00"
     ]
    },
    {
     "name": "stdout",
     "output_type": "stream",
     "text": [
      "16\n"
     ]
    },
    {
     "name": "stderr",
     "output_type": "stream",
     "text": [
      "\n",
      "Total time elapsed: 00:00:00\n",
      "0% [#####] 100% | ETA: 00:00:00"
     ]
    },
    {
     "name": "stdout",
     "output_type": "stream",
     "text": [
      "8\n"
     ]
    },
    {
     "name": "stderr",
     "output_type": "stream",
     "text": [
      "\n",
      "Total time elapsed: 00:00:00\n",
      "0% [#####] 100% | ETA: 00:00:00"
     ]
    },
    {
     "name": "stdout",
     "output_type": "stream",
     "text": [
      "12\n"
     ]
    },
    {
     "name": "stderr",
     "output_type": "stream",
     "text": [
      "\n",
      "Total time elapsed: 00:00:00\n"
     ]
    },
    {
     "data": {
      "text/plain": [
       "(20, 60)"
      ]
     },
     "execution_count": 215,
     "metadata": {},
     "output_type": "execute_result"
    },
    {
     "data": {
      "image/png": "[encoded data removed]",
      "text/plain": [
       "<Figure size 720x360 with 1 Axes>"
      ]
     },
     "metadata": {},
     "output_type": "display_data"
    }
   ],
   "source": [
    "def sub_decoder(p=1):\n",
    "    acc = []\n",
    "    repeat = 5*int(1/p)\n",
    "    for i in range(repeat):\n",
    "        do_over = 1\n",
    "        while do_over==1:\n",
    "            try:\n",
    "                acc.append(make_decoder2(sub_data(data,p),'correct_side'))\n",
    "                do_over=0\n",
    "            except:\n",
    "                do_over = 1\n",
    "    np.array(acc)\n",
    "    return np.mean(acc,axis=0)\n",
    "    \n",
    "\n",
    "\n",
    "fig = plt.figure(figsize=(10,5))\n",
    "\n",
    "print(100)\n",
    "plt.plot(sub_decoder(1),label='100% Data, Stimulus')\n",
    "print(75)\n",
    "plt.plot(sub_decoder(0.75),label='75% Data, Stimulus')\n",
    "plt.plot(sub_decoder(0.5),label='50% Data, Stimulus')\n",
    "print(40)\n",
    "plt.plot(sub_decoder(0.4),label='40% Data, Stimulus')\n",
    "print(30)\n",
    "plt.plot(sub_decoder(0.3),label='30% Data, Stimulus')\n",
    "print(15)\n",
    "plt.plot(sub_decoder(0.15),label='15% Data, Stimulus')\n",
    "plt.plot(sub_decoder(0.1),label='10% Data, Stimulus')\n",
    "\n",
    "plt.plot([40,40],[0.4,0.9],'k--')\n",
    "plt.plot([47,47],[0.4,0.9],'k--')\n",
    "plt.legend()\n",
    "plt.ylabel('accuracy')\n",
    "plt.xlabel('frame in trial')\n",
    "plt.xlim([20,60])"
   ]
  },
  {
   "cell_type": "code",
   "execution_count": 202,
   "metadata": {},
   "outputs": [
    {
     "name": "stderr",
     "output_type": "stream",
     "text": [
      "0% [#####] 100% | ETA: 00:00:00"
     ]
    },
    {
     "name": "stdout",
     "output_type": "stream",
     "text": [
      "136\n"
     ]
    },
    {
     "name": "stderr",
     "output_type": "stream",
     "text": [
      "\n",
      "Total time elapsed: 00:00:01\n",
      "0% [#####] 100% | ETA: 00:00:00"
     ]
    },
    {
     "name": "stdout",
     "output_type": "stream",
     "text": [
      "136\n"
     ]
    },
    {
     "name": "stderr",
     "output_type": "stream",
     "text": [
      "\n",
      "Total time elapsed: 00:00:01\n",
      "0% [#####] 100% | ETA: 00:00:00"
     ]
    },
    {
     "name": "stdout",
     "output_type": "stream",
     "text": [
      "136\n"
     ]
    },
    {
     "name": "stderr",
     "output_type": "stream",
     "text": [
      "\n",
      "Total time elapsed: 00:00:01\n",
      "0% [#####] 100% | ETA: 00:00:00"
     ]
    },
    {
     "name": "stdout",
     "output_type": "stream",
     "text": [
      "136\n"
     ]
    },
    {
     "name": "stderr",
     "output_type": "stream",
     "text": [
      "\n",
      "Total time elapsed: 00:00:01\n",
      "0% [#####] 100% | ETA: 00:00:00"
     ]
    },
    {
     "name": "stdout",
     "output_type": "stream",
     "text": [
      "136\n"
     ]
    },
    {
     "name": "stderr",
     "output_type": "stream",
     "text": [
      "\n",
      "Total time elapsed: 00:00:01\n"
     ]
    },
    {
     "data": {
      "text/plain": [
       "array([ 0.51407407,  0.51092063,  0.50009524,  0.4982963 ,  0.52965079,\n",
       "        0.52680423,  0.51051852,  0.5273545 ,  0.52207407,  0.49713228,\n",
       "        0.48037037,  0.48124868,  0.52456085,  0.45764021,  0.47129101,\n",
       "        0.48369312,  0.48009524,  0.48756614,  0.4664127 ,  0.46484656,\n",
       "        0.48194709,  0.48450794,  0.49749206,  0.4824127 ,  0.49141799,\n",
       "        0.48891005,  0.53027513,  0.50504762,  0.51531217,  0.53348148,\n",
       "        0.49634921,  0.53645503,  0.53389418,  0.54946032,  0.49182011,\n",
       "        0.49351323,  0.51637037,  0.50184127,  0.52121693,  0.51907937,\n",
       "        0.49998942,  0.50024339,  0.54692063,  0.67164021,  0.74009524,\n",
       "        0.75521693,  0.73926984,  0.75746032,  0.78356614,  0.7945291 ,\n",
       "        0.73292063,  0.7102328 ,  0.69566138,  0.67774603,  0.66308995,\n",
       "        0.65928042,  0.65920635,  0.69124868,  0.64057143,  0.59495238,\n",
       "        0.6064127 ,  0.59458201,  0.62647619,  0.60428571,  0.56087831,\n",
       "        0.56046561,  0.57422222,  0.5605291 ,  0.5451746 ,  0.55863492,\n",
       "        0.52122751,  0.51710053,  0.48137566,  0.50308995,  0.4704127 ,\n",
       "        0.48969312,  0.49814815,  0.52928042,  0.49503704,  0.50356614,\n",
       "        0.49313228,  0.51257143,  0.52055026,  0.51412698,  0.53302646,\n",
       "        0.52554497,  0.50503704,  0.52467725,  0.49702646,  0.51726984,\n",
       "        0.45311111,  0.45730159,  0.49015873,  0.4774709 ,  0.50162963,\n",
       "        0.46338624,  0.46394709,  0.4789418 ,  0.46106878,  0.4572381 ,\n",
       "        0.45487831,  0.4822963 ,  0.47198942,  0.46237037,  0.43447619,\n",
       "        0.41674074,  0.44333333,  0.45929101,  0.45471958,  0.44324868,\n",
       "        0.51039153,  0.49971429,  0.4689418 ,  0.48032804,  0.46354497,\n",
       "        0.45883598,  0.46789418,  0.49842328,  0.47801058,  0.48713228])"
      ]
     },
     "execution_count": 202,
     "metadata": {},
     "output_type": "execute_result"
    }
   ],
   "source": [
    "sub_decoder(1)"
   ]
  },
  {
   "cell_type": "code",
   "execution_count": 74,
   "metadata": {},
   "outputs": [],
   "source": [
    "\n",
    "def make_decoder2_LOO(data, category_to_decode,time_inds = np.arange(40,60),n_repeats=10):\n",
    "    repeat_data = []\n",
    "    bar = pyprind.ProgBar(n_repeats, track_time=True)\n",
    "    \n",
    "    traces = data['completed_trials_data']['traces_stim_aligned']\n",
    "    \n",
    "    # we need to balance our dataset between all the types of stimulii and responses\n",
    "    resp = data['completed_trials_data']['response_side']\n",
    "    stim = data['completed_trials_data']['correct_side']\n",
    "\n",
    "    # get the labels for the responses and the stimulii\n",
    "    resp_un = np.unique(resp)\n",
    "    stim_un = np.unique(stim)\n",
    "\n",
    "    # make a list of the product of these two vectors\n",
    "    prod = list(itertools.product(resp_un,stim_un))\n",
    "\n",
    "    # number them in a dictionary\n",
    "    prod_dict = dict(zip(prod, range(len(prod))))\n",
    "\n",
    "    # convert the combos to unique numbers\n",
    "    unique_types = [prod_dict[resp[i],stim[i]] for i in range(len(resp))]\n",
    "\n",
    "\n",
    "    \n",
    "    for r in range(n_repeats):\n",
    "        rus = RandomUnderSampler()\n",
    "            # finally, do the undersampling\n",
    "        X = data['completed_trials_data']['traces_stim_aligned'][:,:,0]\n",
    "        y = unique_types\n",
    "        X_resampled, y_resampled = rus.fit_resample(X, y)\n",
    "        rus_indices = rus.sample_indices_\n",
    "\n",
    "        acc_per_split = []\n",
    "        for i in range(len(split_inds)):\n",
    "            testing_inds = split_inds[i]\n",
    "            training_inds = np.setdiff1d(rus_indices, testing_inds)\n",
    "            \n",
    "            X = traces[:,:,time_inds]\n",
    "            X = X[training_inds,:,:]\n",
    "            X = X.transpose(0,2,1)\n",
    "            X = np.reshape(X,(X.shape[0]*X.shape[1],X.shape[2]))\n",
    "            y = data['completed_trials_data'][category_to_decode][training_inds]\n",
    "            y = np.repeat(y,len(time_inds))\n",
    "            model = linear_model.LogisticRegression(C=.01)\n",
    "            #np.random.shuffle(y)\n",
    "            model.fit(X,y)\n",
    "\n",
    "\n",
    "            # Get accuracy at every point in time of the testing data\n",
    "            acc_ = [] # holds accuracy at every ppint in time for a given split\n",
    "            for t in range(traces.shape[2]):\n",
    "                predictions = model.predict(traces[testing_inds,:,t])\n",
    "                y_ = data['completed_trials_data'][category_to_decode][testing_inds]\n",
    "                acc_.append(np.mean(predictions == y_))\n",
    "            acc_per_split.append(acc_)    \n",
    "\n",
    "        repeat_data.append(np.mean(acc_per_split,axis=0))\n",
    "        bar.update()\n",
    "    return np.mean(repeat_data,axis=0)    \n",
    "        "
   ]
  },
  {
   "cell_type": "code",
   "execution_count": null,
   "metadata": {},
   "outputs": [],
   "source": []
  },
  {
   "cell_type": "code",
   "execution_count": null,
   "metadata": {},
   "outputs": [],
   "source": []
  },
  {
   "cell_type": "code",
   "execution_count": 116,
   "metadata": {},
   "outputs": [],
   "source": [
    "\n",
    "def make_PLS_decoder(data, category_to_decode,time_inds = np.arange(40,60),n_repeats=100):\n",
    "    repeat_data = []\n",
    "    bar = pyprind.ProgBar(n_repeats, track_time=True)\n",
    "    \n",
    "    traces = data['completed_trials_data']['traces_stim_aligned']\n",
    "    \n",
    "    # we need to balance our dataset between all the types of stimulii and responses\n",
    "    resp = data['completed_trials_data']['response_side']\n",
    "    stim = data['completed_trials_data']['correct_side']\n",
    "\n",
    "    # get the labels for the responses and the stimulii\n",
    "    resp_un = np.unique(resp)\n",
    "    stim_un = np.unique(stim)\n",
    "\n",
    "    # make a list of the product of these two vectors\n",
    "    prod = list(itertools.product(resp_un,stim_un))\n",
    "\n",
    "    # number them in a dictionary\n",
    "    prod_dict = dict(zip(prod, range(len(prod))))\n",
    "\n",
    "    # convert the combos to unique numbers\n",
    "    unique_types = [prod_dict[resp[i],stim[i]] for i in range(len(resp))]\n",
    "\n",
    "\n",
    "    \n",
    "    for r in range(n_repeats):\n",
    "        rus = RandomUnderSampler()\n",
    "            # finally, do the undersampling\n",
    "        X = data['completed_trials_data']['traces_stim_aligned'][:,:,0]\n",
    "        y = unique_types\n",
    "        X_resampled, y_resampled = rus.fit_resample(X, y)\n",
    "        rus_indices = rus.sample_indices_\n",
    "            \n",
    "        # split data into ten pieces\n",
    "        np.random.shuffle(rus_indices)\n",
    "        split_inds = np.array_split(rus_indices,2)\n",
    "        acc_per_split = []\n",
    "        for i in range(len(split_inds)):\n",
    "            testing_inds = split_inds[i]\n",
    "            training_inds = np.setdiff1d(rus_indices, testing_inds)\n",
    "            \n",
    "            X = traces[:,:,time_inds]\n",
    "            X = X[training_inds,:,:]\n",
    "            X = X.transpose(0,2,1)\n",
    "            X = np.reshape(X,(X.shape[0]*X.shape[1],X.shape[2]))\n",
    "            y = data['completed_trials_data'][category_to_decode][training_inds]\n",
    "            y = np.repeat(y,len(time_inds))\n",
    "            \n",
    "            pls = PLSRegression(n_components =1)\n",
    "            \n",
    "            X_p = traces[:,:,time_inds]\n",
    "            X_p = X_p[testing_inds,:,:]\n",
    "            X_p = X_p.transpose(0,2,1)\n",
    "            X_p = np.reshape(X_p,(X_p.shape[0]*X_p.shape[1],X_p.shape[2]))\n",
    "            y_p = data['completed_trials_data'][category_to_decode][testing_inds]\n",
    "            y_p = np.repeat(y_p,len(time_inds))\n",
    "            \n",
    "            y_p = (y_p=='left')\n",
    "\n",
    "            \n",
    "            \n",
    "            \n",
    "            pls.fit(X_p,y_p)\n",
    "            X = np.dot(X,pls.x_weights_)\n",
    "            \n",
    "            model = linear_model.LogisticRegression(penalty='l2',C=10000000000000000000)\n",
    "            y2 = (y=='left')\n",
    "            model.fit(X,y2)\n",
    "            \n",
    "            #print(model.score(X,y))\n",
    "\n",
    "            # Get accuracy at every point in time of the testing data\n",
    "            acc_ = [] # holds accuracy at every ppint in time for a given split\n",
    "            for t in range(traces.shape[2]):\n",
    "                X_ = np.dot(traces[testing_inds,:,t],pls.x_weights_)\n",
    "                \n",
    "                predictions = model.predict(X_)\n",
    "                y_ = data['completed_trials_data'][category_to_decode][testing_inds]\n",
    "                y_= (y_=='left')\n",
    "                acc_.append(np.mean(predictions == y_))\n",
    "            acc_per_split.append(acc_)    \n",
    "\n",
    "        repeat_data.append(np.mean(acc_per_split,axis=0))\n",
    "        bar.update()\n",
    "    return np.mean(repeat_data,axis=0)    \n",
    "        "
   ]
  },
  {
   "cell_type": "code",
   "execution_count": 117,
   "metadata": {},
   "outputs": [
    {
     "name": "stderr",
     "output_type": "stream",
     "text": [
      "0% [##############################] 100% | ETA: 00:00:00\n",
      "Total time elapsed: 00:00:11\n",
      "0% [##############################] 100% | ETA: 00:00:00\n",
      "Total time elapsed: 00:00:11\n"
     ]
    },
    {
     "data": {
      "text/plain": [
       "<matplotlib.legend.Legend at 0x1ce48fe6860>"
      ]
     },
     "execution_count": 117,
     "metadata": {},
     "output_type": "execute_result"
    },
    {
     "data": {
      "image/png": "[encoded data removed]",
      "text/plain": [
       "<Figure size 432x288 with 1 Axes>"
      ]
     },
     "metadata": {},
     "output_type": "display_data"
    }
   ],
   "source": [
    "plt.plot(make_PLS_decoder(data, 'response_side',time_inds = np.arange(40,80)),label='response')\n",
    "plt.plot(make_PLS_decoder(data, 'correct_side',time_inds = np.arange(40,80)),label='stimulus')\n",
    "plt.legend()"
   ]
  },
  {
   "cell_type": "code",
   "execution_count": 27,
   "metadata": {},
   "outputs": [],
   "source": [
    "data = loadmat('H:\\\\Adam0_20190228\\\\all_data.mat')['data']"
   ]
  },
  {
   "cell_type": "code",
   "execution_count": 28,
   "metadata": {},
   "outputs": [],
   "source": [
    "pickle.dump( data, open( \"adam0_20190228.pickle\", \"wb\" ) )"
   ]
  },
  {
   "cell_type": "code",
   "execution_count": 19,
   "metadata": {},
   "outputs": [],
   "source": [
    "import scipy\n",
    "import numpy as np\n",
    "import scipy.io as spio\n",
    "\n",
    "\n",
    "def loadmat(filename):\n",
    "    '''\n",
    "    this function should be called instead of direct spio.loadmat\n",
    "    as it cures the problem of not properly recovering python dictionaries\n",
    "    from mat files. It calls the function check keys to cure all entries\n",
    "    which are still mat-objects\n",
    "    '''\n",
    "    def _check_keys(d):\n",
    "        '''\n",
    "        checks if entries in dictionary are mat-objects. If yes\n",
    "        todict is called to change them to nested dictionaries\n",
    "        '''\n",
    "        for key in d:\n",
    "            if isinstance(d[key], spio.matlab.mio5_params.mat_struct):\n",
    "                d[key] = _todict(d[key])\n",
    "        return d\n",
    "\n",
    "    def _todict(matobj):\n",
    "        '''\n",
    "        A recursive function which constructs from matobjects nested dictionaries\n",
    "        '''\n",
    "        d = {}\n",
    "        for strg in matobj._fieldnames:\n",
    "            elem = matobj.__dict__[strg]\n",
    "            if isinstance(elem, spio.matlab.mio5_params.mat_struct):\n",
    "                d[strg] = _todict(elem)\n",
    "            elif isinstance(elem, np.ndarray):\n",
    "                d[strg] = _tolist(elem)\n",
    "            else:\n",
    "                d[strg] = elem\n",
    "        return d\n",
    "\n",
    "    def _tolist(ndarray):\n",
    "        '''\n",
    "        A recursive function which constructs lists from cellarrays\n",
    "        (which are loaded as numpy ndarrays), recursing into the elements\n",
    "        if they contain matobjects.\n",
    "        '''\n",
    "        elem_list = []\n",
    "        for sub_elem in ndarray:\n",
    "            if isinstance(sub_elem, spio.matlab.mio5_params.mat_struct):\n",
    "                elem_list.append(_todict(sub_elem))\n",
    "            elif isinstance(sub_elem, np.ndarray):\n",
    "                elem_list.append(_tolist(sub_elem))\n",
    "            else:\n",
    "                elem_list.append(sub_elem)\n",
    "        return elem_list\n",
    "    data = scipy.io.loadmat(filename, struct_as_record=False, squeeze_me=True)\n",
    "    return _check_keys(data)"
   ]
  },
  {
   "cell_type": "code",
   "execution_count": null,
   "metadata": {},
   "outputs": [],
   "source": []
  }
 ],
 "metadata": {
  "kernelspec": {
   "display_name": "Python 3",
   "language": "python",
   "name": "python3"
  },
  "language_info": {
   "codemirror_mode": {
    "name": "ipython",
    "version": 3
   },
   "file_extension": ".py",
   "mimetype": "text/x-python",
   "name": "python",
   "nbconvert_exporter": "python",
   "pygments_lexer": "ipython3",
   "version": "3.6.5"
  }
 },
 "nbformat": 4,
 "nbformat_minor": 2
}
