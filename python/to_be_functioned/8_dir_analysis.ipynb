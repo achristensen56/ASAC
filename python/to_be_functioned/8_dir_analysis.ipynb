{
 "cells": [
  {
   "cell_type": "code",
   "execution_count": 1,
   "metadata": {},
   "outputs": [],
   "source": [
    "import numpy as np\n",
    "import scipy.io as sio\n",
    "import glob\n",
    "from sklearn import linear_model\n",
    "import pandas as pd\n",
    "import matplotlib\n",
    "import matplotlib.pyplot as plt\n",
    "import math\n",
    "from itertools import cycle\n",
    "from scipy.optimize import curve_fit\n",
    "from sklearn.decomposition import PCA\n",
    "from scipy.stats import sem\n",
    "from scipy import stats\n",
    "from scipy import ndimage\n",
    "import pystan\n",
    "from matplotlib import cm\n",
    "\n",
    "%matplotlib inline\n",
    "\n",
    "color_cycle = cycle(['g', 'b', 'c', 'm', 'y', 'k'])\n",
    "\n",
    "\n",
    "import warnings\n",
    "warnings.simplefilter(\"ignore\")\n",
    "\n",
    "\n",
    "import matplotlib as mpl\n",
    "mpl.rcParams['font.size'] = 16\n",
    "mpl.rcParams['legend.fontsize'] = 'large'\n",
    "mpl.rcParams['figure.titlesize'] = 'large'\n",
    "\n",
    "%matplotlib inline\n",
    "%load_ext autoreload\n",
    "%autoreload 2\n",
    "%reload_ext autoreload\n",
    "\n",
    "color_cycle = cycle(['g', 'b', 'c', 'm', 'y', 'k'])\n",
    "\n",
    "\n",
    "import sys\n",
    "sys.path.append('C:\\\\Users\\\\adamimos\\\\Documents\\\\GitHub\\\\ASAC\\\\python')\n",
    "from import_rat_data import *\n",
    "from behavior_analysis import *\n",
    "#from decoder_functions import *\n",
    "\n",
    "def simpleaxis(ax):\n",
    "    ax.spines['top'].set_visible(False)\n",
    "    ax.spines['right'].set_visible(False)\n",
    "    ax.get_xaxis().tick_bottom()\n",
    "    ax.get_yaxis().tick_left()\n",
    "    \n",
    "from ipywidgets import interact, interactive, fixed, interact_manual\n",
    "import ipywidgets as widgets\n",
    "\n",
    "import cv2"
   ]
  },
  {
   "cell_type": "code",
   "execution_count": 2,
   "metadata": {},
   "outputs": [],
   "source": [
    "#file = open(\"C:\\\\Users\\\\adamimos\\\\Documents\\\\DATA\\\\Complete_data_files\\\\MotionPulses8Dir\\\\adam0_20190731.pickle\",'rb')\n",
    "#file = open(\"C:\\\\Users\\\\adamimos\\\\Documents\\\\DATA\\\\Complete_data_files\\\\Dots8dir\\\\Anton1_20190302.pickle\",'rb')\n",
    "file = open(\"C:\\\\Users\\\\adamimos\\\\Documents\\\\DATA\\\\Complete_data_files\\\\Gratings8Dir\\\\Terry20190216.pickle\",'rb')\n",
    "#file = open(\"C:\\\\Users\\\\adamimos\\\\Documents\\\\DATA\\\\Complete_data_files\\\\Gratings8Dir\\\\Anton1_20190414.pickle\",'rb')\n",
    "#file = open(\"C:\\\\Users\\\\adamimos\\\\Documents\\\\DATA\\\\Complete_data_files\\\\Gratings8Dir\\\\Terry20190201.pickle\",'rb')\n",
    "#file = open(\"C:\\\\Users\\\\adamimos\\\\Documents\\\\DATA\\\\Complete_data_files\\\\MC8Dir\\\\Adam0_20190508.pickle\",'rb')\n",
    "data = pickle.load(file)\n",
    "file.close()   "
   ]
  },
  {
   "cell_type": "code",
   "execution_count": 15,
   "metadata": {},
   "outputs": [
    {
     "data": {
      "text/plain": [
       "dict_keys(['was_completed', 'was_correct', 'stim_dir', 'correct_side', 'response_side', 'completed_inds', 'traces_stim_aligned', 'traces_resp_aligned', 'frame_info'])"
      ]
     },
     "execution_count": 15,
     "metadata": {},
     "output_type": "execute_result"
    }
   ],
   "source": [
    "data['completed_trials_data'].keys()"
   ]
  },
  {
   "cell_type": "code",
   "execution_count": 16,
   "metadata": {},
   "outputs": [],
   "source": [
    "traces = data['completed_trials_data']['traces_stim_aligned']\n",
    "directions = data['completed_trials_data']['stim_dir']\n"
   ]
  },
  {
   "cell_type": "code",
   "execution_count": 17,
   "metadata": {},
   "outputs": [],
   "source": [
    "independent_variable= np.array(directions)\n",
    "data_to_avg = np.array(traces)\n",
    "av_traces = []\n",
    "for x in np.unique(independent_variable):\n",
    "    av_traces.append(np.mean(data_to_avg[np.where(independent_variable==x)[0],:,:],axis=0))\n",
    "av_traces = np.array(av_traces)\n"
   ]
  },
  {
   "cell_type": "code",
   "execution_count": 18,
   "metadata": {},
   "outputs": [],
   "source": [
    "import matplotlib.pylab as pl\n",
    "\n",
    "def plot_av_dir_traces(n):\n",
    "    #fig = plt.figure(figsize=(20,7))\n",
    "    colors = pl.cm.RdBu(np.linspace(0,1,av_traces.shape[0]))\n",
    "    #plt.subplot(1,2,1)\n",
    "    for x in range(av_traces.shape[0]):\n",
    "        plt.plot(np.squeeze(av_traces[x,n,:]),color = colors[x])  \n",
    "    plt.plot([35,35],[0,np.max(np.ravel(av_traces[:,n,:]))],'--k')\n",
    "    plt.plot([40,40],[0,np.max(np.ravel(av_traces[:,n,:]))],'--k')\n",
    "    plt.plot([47,47],[0,np.max(np.ravel(av_traces[:,n,:]))],'--k')\n",
    "    plt.xticks([35,43], ['poke','stim'])\n",
    "    plt.xlim([20,60])"
   ]
  },
  {
   "cell_type": "code",
   "execution_count": 19,
   "metadata": {},
   "outputs": [
    {
     "data": {
      "application/vnd.jupyter.widget-view+json": {
       "model_id": "80535f4f8c8d4e8e8d37b5b008811e55",
       "version_major": 2,
       "version_minor": 0
      },
      "text/plain": [
       "interactive(children=(IntSlider(value=0, description='n', max=41), Output()), _dom_classes=('widget-interact',…"
      ]
     },
     "metadata": {},
     "output_type": "display_data"
    },
    {
     "data": {
      "text/plain": [
       "<function __main__.plot_av_dir_traces(n)>"
      ]
     },
     "execution_count": 19,
     "metadata": {},
     "output_type": "execute_result"
    }
   ],
   "source": [
    "interact(plot_av_dir_traces,n=widgets.IntSlider(min=0,max=data_to_avg.shape[1]-1,step=1,value=0))"
   ]
  },
  {
   "cell_type": "code",
   "execution_count": 20,
   "metadata": {},
   "outputs": [],
   "source": [
    "def plot_rasters(n):\n",
    "    fig = plt.figure(figsize=(20,20))\n",
    "    plt.subplot(2,2,1)\n",
    "    plt.imshow(data_to_avg[np.argsort(independent_variable),n,:],aspect='auto')\n",
    "    deltas = np.where(np.diff(independent_variable[np.argsort(independent_variable)]))[0]\n",
    "    for i in range(len(deltas)):\n",
    "        plt.plot([20,80],[deltas[i],deltas[i]],'w--',alpha=0.4)\n",
    "        #plt.arrow(30,deltas[i]-25,5*np.cos(i*np.pi/4),-5*np.sin(i*np.pi/4),color='r')\n",
    "    plt.xlim([20,80])\n",
    "    plt.ylim([0,len(independent_variable)])\n",
    "    plt.plot([40,40],[0,len(independent_variable)],'w--',alpha=0.4)\n",
    "    plt.plot([47,47],[0,len(independent_variable)],'w--',alpha=0.4)"
   ]
  },
  {
   "cell_type": "code",
   "execution_count": 21,
   "metadata": {
    "scrolled": false
   },
   "outputs": [
    {
     "data": {
      "application/vnd.jupyter.widget-view+json": {
       "model_id": "2ad589783fc64f508592e9d5f2eecba4",
       "version_major": 2,
       "version_minor": 0
      },
      "text/plain": [
       "interactive(children=(IntSlider(value=0, description='n', max=42), Output()), _dom_classes=('widget-interact',…"
      ]
     },
     "metadata": {},
     "output_type": "display_data"
    },
    {
     "data": {
      "text/plain": [
       "<function __main__.plot_rasters(n)>"
      ]
     },
     "execution_count": 21,
     "metadata": {},
     "output_type": "execute_result"
    }
   ],
   "source": [
    "interact(plot_rasters,n=widgets.IntSlider(min=0,max=av_traces.shape[1],step=1,value=0))"
   ]
  },
  {
   "cell_type": "code",
   "execution_count": 22,
   "metadata": {},
   "outputs": [],
   "source": [
    "def plot_activity(n):\n",
    "    ind_vars = np.unique(independent_variable)\n",
    "    n_ind_vars = len(ind_vars)\n",
    "    fig = plt.figure(figsize=(5,5))\n",
    "    mm = np.max(np.max(data_to_avg[:,n,:]))\n",
    "    for i in range(n_ind_vars):\n",
    "        plt.subplot(n_ind_vars,1,i+1)\n",
    "        to_plot = data_to_avg[np.where(independent_variable==ind_vars[i])[0],n,:].T\n",
    "        plt.plot(to_plot,color='k',alpha=0.1);\n",
    "\n",
    "        plt.xlim([20,80])\n",
    "        plt.plot([40,40],[0,mm],'k--',alpha=0.4)\n",
    "        plt.plot([47,47],[0,mm],'k--',alpha=0.4)"
   ]
  },
  {
   "cell_type": "code",
   "execution_count": 23,
   "metadata": {},
   "outputs": [
    {
     "data": {
      "image/png": "[encoded data removed]",
      "text/plain": [
       "<Figure size 432x288 with 1 Axes>"
      ]
     },
     "metadata": {},
     "output_type": "display_data"
    }
   ],
   "source": [
    "ind_vars = np.unique(independent_variable)\n",
    "n_ind_vars = len(ind_vars)\n",
    "plt.plot(data_to_avg[np.where(independent_variable==ind_vars[0])[0],5,:].T);"
   ]
  },
  {
   "cell_type": "code",
   "execution_count": 24,
   "metadata": {},
   "outputs": [
    {
     "data": {
      "application/vnd.jupyter.widget-view+json": {
       "model_id": "299fb839bdb9431f881a43a9022d0869",
       "version_major": 2,
       "version_minor": 0
      },
      "text/plain": [
       "interactive(children=(IntSlider(value=0, description='n', max=42), Output()), _dom_classes=('widget-interact',…"
      ]
     },
     "metadata": {},
     "output_type": "display_data"
    },
    {
     "data": {
      "text/plain": [
       "<function __main__.plot_activity(n)>"
      ]
     },
     "execution_count": 24,
     "metadata": {},
     "output_type": "execute_result"
    }
   ],
   "source": [
    "interact(plot_activity,n=widgets.IntSlider(min=0,max=av_traces.shape[1],step=1,value=0))"
   ]
  },
  {
   "cell_type": "code",
   "execution_count": 13,
   "metadata": {},
   "outputs": [],
   "source": [
    "traces = data['completed_trials_data']['traces_stim_aligned']\n",
    "directions = data['completed_trials_data']['response_side']\n"
   ]
  },
  {
   "cell_type": "code",
   "execution_count": 14,
   "metadata": {},
   "outputs": [
    {
     "ename": "TypeError",
     "evalue": "list indices must be integers or slices, not tuple",
     "output_type": "error",
     "traceback": [
      "\u001b[1;31m---------------------------------------------------------------------------\u001b[0m",
      "\u001b[1;31mTypeError\u001b[0m                                 Traceback (most recent call last)",
      "\u001b[1;32m<ipython-input-14-d3661c4c67cf>\u001b[0m in \u001b[0;36m<module>\u001b[1;34m()\u001b[0m\n\u001b[0;32m      3\u001b[0m \u001b[0mav_traces\u001b[0m \u001b[1;33m=\u001b[0m \u001b[1;33m[\u001b[0m\u001b[1;33m]\u001b[0m\u001b[1;33m\u001b[0m\u001b[0m\n\u001b[0;32m      4\u001b[0m \u001b[1;32mfor\u001b[0m \u001b[0mx\u001b[0m \u001b[1;32min\u001b[0m \u001b[0mnp\u001b[0m\u001b[1;33m.\u001b[0m\u001b[0munique\u001b[0m\u001b[1;33m(\u001b[0m\u001b[0mindependent_variable\u001b[0m\u001b[1;33m)\u001b[0m\u001b[1;33m:\u001b[0m\u001b[1;33m\u001b[0m\u001b[0m\n\u001b[1;32m----> 5\u001b[1;33m     \u001b[0mav_traces\u001b[0m\u001b[1;33m.\u001b[0m\u001b[0mappend\u001b[0m\u001b[1;33m(\u001b[0m\u001b[0mnp\u001b[0m\u001b[1;33m.\u001b[0m\u001b[0mmean\u001b[0m\u001b[1;33m(\u001b[0m\u001b[0mdata_to_avg\u001b[0m\u001b[1;33m[\u001b[0m\u001b[0mnp\u001b[0m\u001b[1;33m.\u001b[0m\u001b[0mwhere\u001b[0m\u001b[1;33m(\u001b[0m\u001b[0mindependent_variable\u001b[0m\u001b[1;33m==\u001b[0m\u001b[0mx\u001b[0m\u001b[1;33m)\u001b[0m\u001b[1;33m[\u001b[0m\u001b[1;36m0\u001b[0m\u001b[1;33m]\u001b[0m\u001b[1;33m,\u001b[0m\u001b[1;33m:\u001b[0m\u001b[1;33m,\u001b[0m\u001b[1;33m:\u001b[0m\u001b[1;33m]\u001b[0m\u001b[1;33m,\u001b[0m\u001b[0maxis\u001b[0m\u001b[1;33m=\u001b[0m\u001b[1;36m0\u001b[0m\u001b[1;33m)\u001b[0m\u001b[1;33m)\u001b[0m\u001b[1;33m\u001b[0m\u001b[0m\n\u001b[0m\u001b[0;32m      6\u001b[0m \u001b[0mav_traces\u001b[0m \u001b[1;33m=\u001b[0m \u001b[0mnp\u001b[0m\u001b[1;33m.\u001b[0m\u001b[0marray\u001b[0m\u001b[1;33m(\u001b[0m\u001b[0mav_traces\u001b[0m\u001b[1;33m)\u001b[0m\u001b[1;33m\u001b[0m\u001b[0m\n",
      "\u001b[1;31mTypeError\u001b[0m: list indices must be integers or slices, not tuple"
     ]
    }
   ],
   "source": [
    "independent_variable= directions\n",
    "data_to_avg = traces\n",
    "av_traces = []\n",
    "for x in np.unique(independent_variable):\n",
    "    av_traces.append(np.mean(data_to_avg[np.where(independent_variable==x)[0],:,:],axis=0))\n",
    "av_traces = np.array(av_traces)\n"
   ]
  },
  {
   "cell_type": "code",
   "execution_count": null,
   "metadata": {},
   "outputs": [],
   "source": [
    "import matplotlib.pylab as pl\n",
    "\n",
    "def plot_av_dir_traces(n):\n",
    "    #fig = plt.figure(figsize=(20,7))\n",
    "    colors = pl.cm.RdBu(np.linspace(0,1,av_traces.shape[0]))\n",
    "    #plt.subplot(1,2,1)\n",
    "    for x in range(av_traces.shape[0]):\n",
    "        plt.plot(np.squeeze(av_traces[x,n,:]),color = colors[x])  \n",
    "    plt.plot([35,35],[0,np.max(np.ravel(av_traces[:,n,:]))],'--k')\n",
    "    plt.plot([40,40],[0,np.max(np.ravel(av_traces[:,n,:]))],'--k')\n",
    "    plt.plot([47,47],[0,np.max(np.ravel(av_traces[:,n,:]))],'--k')\n",
    "    plt.xticks([35,43], ['poke','stim'])\n",
    "    plt.xlim([20,60])"
   ]
  },
  {
   "cell_type": "code",
   "execution_count": null,
   "metadata": {},
   "outputs": [],
   "source": [
    "interact(plot_av_dir_traces,n=widgets.IntSlider(min=0,max=data_to_avg.shape[1]-1,step=1,value=0))"
   ]
  },
  {
   "cell_type": "code",
   "execution_count": null,
   "metadata": {},
   "outputs": [],
   "source": [
    "def plot_rasters(n):\n",
    "    fig = plt.figure(figsize=(20,20))\n",
    "    plt.subplot(2,2,1)\n",
    "    plt.imshow(data_to_avg[np.argsort(independent_variable),n,:],aspect='auto')\n",
    "    #deltas = np.where(np.diff(independent_variable[np.argsort(independent_variable)]))[0]\n",
    "    #for i in range(len(deltas)):\n",
    "    #    plt.plot([20,80],[deltas[i],deltas[i]],'w--',alpha=0.4)\n",
    "        #plt.arrow(30,deltas[i]-25,5*np.cos(i*np.pi/4),-5*np.sin(i*np.pi/4),color='r')\n",
    "    plt.xlim([20,80])\n",
    "    plt.ylim([0,len(independent_variable)])\n",
    "    plt.plot([40,40],[0,len(independent_variable)],'w--',alpha=0.4)\n",
    "    plt.plot([47,47],[0,len(independent_variable)],'w--',alpha=0.4)"
   ]
  },
  {
   "cell_type": "code",
   "execution_count": null,
   "metadata": {
    "scrolled": false
   },
   "outputs": [],
   "source": [
    "interact(plot_rasters,n=widgets.IntSlider(min=0,max=av_traces.shape[1],step=1,value=0))"
   ]
  },
  {
   "cell_type": "code",
   "execution_count": 16,
   "metadata": {},
   "outputs": [
    {
     "data": {
      "text/plain": [
       "array([218, 179, 178,  76,  75, 177,  72, 311, 310, 130,  68, 161, 308,\n",
       "       133, 230, 231, 270, 172, 301, 236,  56, 110,  54, 174, 217, 125,\n",
       "       180, 113, 188, 193, 332, 195, 196, 197, 117, 100, 379,  97, 202,\n",
       "       203, 204, 322, 184, 207, 208, 210, 211, 212,  85, 181,  53,  52,\n",
       "        55,  50, 144, 290, 163,  26, 237, 346, 153, 149, 164, 455, 151,\n",
       "       152, 282, 281, 280, 279,  14, 461,  12,  30,  11,   6, 155, 300,\n",
       "       239, 435, 240, 268,  43, 274, 139,  32,  41, 296,   4, 362, 361,\n",
       "       443, 360,  34, 248,  40, 462, 333, 347, 345, 335, 336, 344, 343,\n",
       "       342, 337, 338, 339, 341, 340, 334, 331,   0, 329, 298, 297, 295,\n",
       "       294, 293, 292, 291, 289, 288, 287, 286, 285, 284, 283, 278, 277,\n",
       "       276, 275, 273, 299, 302, 303, 304, 328, 327, 326, 325, 324, 323,\n",
       "       321, 320, 319, 330, 318, 316, 315, 314, 313, 312, 309, 307, 306,\n",
       "       305, 317, 348, 366, 350, 437, 436, 434, 433, 432, 431, 430, 429,\n",
       "       428, 427, 426, 438, 425, 423, 422, 421, 420, 419, 418, 417, 416,\n",
       "       415, 414, 413, 424, 412, 439, 441, 469, 468, 467, 466, 465, 464,\n",
       "       463, 460, 459, 458, 457, 440, 456, 453, 452, 451, 450, 449, 448,\n",
       "       447, 446, 445, 444, 442, 454, 411, 410, 409, 378, 377, 376, 375,\n",
       "       374, 373, 372, 371, 370, 369, 368, 380, 367, 364, 363, 359, 358,\n",
       "       357, 356, 355, 354, 353, 352, 351, 365, 381, 382, 383, 408, 407,\n",
       "       406, 405, 404, 403, 402, 401, 400, 399, 398, 397, 396, 395, 394,\n",
       "       393, 392, 391, 390, 389, 388, 387, 386, 385, 384, 349, 272, 235,\n",
       "       269,  94,  93,  92,  91,  90,  89,  88,  87,  86,  84,  83,  82,\n",
       "        81,  80,  79,  78,  77,  74,  73,  71,  70,  95,  69,  96,  99,\n",
       "       124, 123, 122, 121, 120, 119, 118, 116, 115, 114, 112, 111, 109,\n",
       "       108, 107, 106, 105, 104, 103, 102, 101,  98, 126,  67,  65,  27,\n",
       "        25,  24,  23,  22,  21,  20,  19,  18,  17,  16,  15,  13,  10,\n",
       "         9,   8,   7,   5,   3,   2,   1,  28,  66,  29,  33,  64,  63,\n",
       "        62,  61,  60,  59,  58,  57,  51,  49,  48,  47,  46,  45,  44,\n",
       "        42,  39,  38,  37,  36,  35,  31, 271, 127, 129, 241, 238, 470,\n",
       "       234, 233, 232, 229, 228, 227, 226, 225, 224, 223, 222, 221, 220,\n",
       "       219, 216, 215, 214, 213, 242, 209, 243, 245, 267, 266, 265, 264,\n",
       "       263, 262, 261, 260, 259, 258, 257, 256, 255, 254, 253, 252, 251,\n",
       "       250, 249, 247, 246, 244, 128, 206, 201, 159, 158, 157, 156, 154,\n",
       "       150, 148, 147, 146, 145, 143, 142, 141, 140, 138, 137, 136, 135,\n",
       "       134, 132, 131, 160, 205, 162, 166, 200, 199, 198, 194, 192, 191,\n",
       "       190, 189, 187, 186, 185, 183, 182, 176, 175, 173, 171, 170, 169,\n",
       "       168, 167, 165, 471], dtype=int64)"
      ]
     },
     "execution_count": 16,
     "metadata": {},
     "output_type": "execute_result"
    }
   ],
   "source": []
  },
  {
   "cell_type": "code",
   "execution_count": null,
   "metadata": {},
   "outputs": [],
   "source": []
  }
 ],
 "metadata": {
  "kernelspec": {
   "display_name": "Python 3",
   "language": "python",
   "name": "python3"
  },
  "language_info": {
   "codemirror_mode": {
    "name": "ipython",
    "version": 3
   },
   "file_extension": ".py",
   "mimetype": "text/x-python",
   "name": "python",
   "nbconvert_exporter": "python",
   "pygments_lexer": "ipython3",
   "version": "3.6.5"
  }
 },
 "nbformat": 4,
 "nbformat_minor": 2
}
